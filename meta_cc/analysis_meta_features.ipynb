{
 "cells": [
  {
   "cell_type": "code",
   "execution_count": 1,
   "metadata": {},
   "outputs": [],
   "source": [
    "import numpy as np\n",
    "import os "
   ]
  },
  {
   "cell_type": "code",
   "execution_count": 2,
   "metadata": {},
   "outputs": [],
   "source": [
    "meta_feature_path = '/data/nishome/user1/minqi/TSGym/get_meta_feature/meta_features_new'\n",
    "datasets=['ETTh1','ETTh2','ETTm1','ETTm2','ECL','Exchange','ili','weather']\n",
    "name_dict = {dataset: dataset for dataset in datasets}\n",
    "name_dict['ECL'] = 'electricity'\n",
    "name_dict['Exchange'] = 'exchange_rate'\n",
    "name_dict['ili'] = 'national_illness'\n",
    "pred_dict = {dataset: 24 if dataset == 'ili' else 96 for dataset in datasets}"
   ]
  },
  {
   "cell_type": "code",
   "execution_count": null,
   "metadata": {},
   "outputs": [],
   "source": [
    "for dataset in datasets:\n",
    "    delta_series = np.load(f'{meta_feature_path}/meta_feature_{name_dict[dataset]}_train_{pred_dict[dataset]}.npz',allow_pickle=True)['data_delta']\n",
    "    mean = np.mean(delta_series,axis=0)\n",
    "    std = np.std(delta_series,axis=0)\n",
    "    min_val = np.min(delta_series,axis=0)\n",
    "    q25 = np.percentile(delta_series, 25,axis=0)\n",
    "    median = np.median(delta_series,axis=0)\n",
    "    q75 = np.percentile(delta_series, 75,axis=0)\n",
    "    max_val = np.max(delta_series,axis=0)\n",
    "    range_val = max_val - min_val\n",
    "    iqr = q75 - q25\n",
    "    combined_features = np.stack([mean, std, min_val, q25, median, q75, max_val, range_val, iqr])#(9,num_meta_features)\n",
    "    meta_features_delta[dataset] = combined_features"
   ]
  },
  {
   "cell_type": "code",
   "execution_count": 5,
   "metadata": {},
   "outputs": [
    {
     "data": {
      "text/plain": [
       "(321,)"
      ]
     },
     "execution_count": 5,
     "metadata": {},
     "output_type": "execute_result"
    }
   ],
   "source": [
    "meta_features_delta['ECL'].shape"
   ]
  },
  {
   "cell_type": "code",
   "execution_count": null,
   "metadata": {},
   "outputs": [],
   "source": []
  }
 ],
 "metadata": {
  "kernelspec": {
   "display_name": "mqenv",
   "language": "python",
   "name": "python3"
  },
  "language_info": {
   "codemirror_mode": {
    "name": "ipython",
    "version": 3
   },
   "file_extension": ".py",
   "mimetype": "text/x-python",
   "name": "python",
   "nbconvert_exporter": "python",
   "pygments_lexer": "ipython3",
   "version": "3.11.11"
  }
 },
 "nbformat": 4,
 "nbformat_minor": 2
}
