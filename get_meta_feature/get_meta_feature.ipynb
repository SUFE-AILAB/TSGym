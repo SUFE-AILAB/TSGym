{
 "cells": [
  {
   "cell_type": "code",
   "execution_count": 22,
   "metadata": {},
   "outputs": [],
   "source": [
    "import sys\n",
    "sys.path.append('/data/nishome/user1/minqi/TSGym')\n",
    "import numpy as np\n",
    "from data_provider.m4 import M4Dataset, M4Meta\n"
   ]
  },
  {
   "cell_type": "code",
   "execution_count": 23,
   "metadata": {},
   "outputs": [],
   "source": [
    "root_path = '/data/nishome/user1/minqi/TSGym/dataset/m4'\n",
    "dataset = M4Dataset.load(training=True, dataset_file=root_path)"
   ]
  },
  {
   "cell_type": "code",
   "execution_count": 24,
   "metadata": {},
   "outputs": [],
   "source": [
    "timeseries = [v[~np.isnan(v)] for v in dataset.values[dataset.groups == seasonal_patterns]]"
   ]
  },
  {
   "cell_type": "code",
   "execution_count": null,
   "metadata": {},
   "outputs": [
    {
     "data": {
      "text/plain": [
       "23000"
      ]
     },
     "execution_count": 14,
     "metadata": {},
     "output_type": "execute_result"
    }
   ],
   "source": []
  },
  {
   "cell_type": "code",
   "execution_count": 27,
   "metadata": {},
   "outputs": [
    {
     "data": {
      "text/plain": [
       "array([5172.1, 5133.5, 5186.9, 5084.6, 5182. , 5414.3, 5576.2, 5752.9,\n",
       "       5955.2, 6087.8, 6238.9, 6317.2, 6262.7, 6361. , 6427.4, 6654.9,\n",
       "       6835.4, 6925.5, 7073.5, 7144. , 7230.6, 7349.6, 7339.2, 7250.8,\n",
       "       7294.6, 7393.9, 7560.9, 7651.4, 7587.3, 7530.5, 7261.1])"
      ]
     },
     "execution_count": 27,
     "metadata": {},
     "output_type": "execute_result"
    }
   ],
   "source": [
    "timeseries[0]"
   ]
  },
  {
   "cell_type": "code",
   "execution_count": null,
   "metadata": {},
   "outputs": [],
   "source": []
  }
 ],
 "metadata": {
  "kernelspec": {
   "display_name": "mqenv",
   "language": "python",
   "name": "python3"
  },
  "language_info": {
   "codemirror_mode": {
    "name": "ipython",
    "version": 3
   },
   "file_extension": ".py",
   "mimetype": "text/x-python",
   "name": "python",
   "nbconvert_exporter": "python",
   "pygments_lexer": "ipython3",
   "version": "3.11.11"
  }
 },
 "nbformat": 4,
 "nbformat_minor": 2
}
