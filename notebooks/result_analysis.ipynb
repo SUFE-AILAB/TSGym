{
 "cells": [
  {
   "cell_type": "code",
   "execution_count": 4,
   "metadata": {},
   "outputs": [],
   "source": [
    "import pandas as pd\n",
    "import numpy as np\n",
    "import os"
   ]
  },
  {
   "cell_type": "code",
   "execution_count": 5,
   "metadata": {},
   "outputs": [],
   "source": [
    "model_list = os.listdir('/data/coding/chaochuan/TSGym/test_results')\n",
    "model_list = list(set([_.replace('_fit_time_per_epoch', '').replace('.npz', '') for _ in model_list if _.endswith('.npz') ]))"
   ]
  },
  {
   "cell_type": "code",
   "execution_count": 6,
   "metadata": {},
   "outputs": [
    {
     "name": "stdout",
     "output_type": "stream",
     "text": [
      "error while fitting model: m4_FEDformer\n"
     ]
    }
   ],
   "source": [
    "metric = 'mape'\n",
    "result_dict, time_dict = {}, {}\n",
    "for model in model_list:\n",
    "    try:\n",
    "        result = np.load(f'/data/coding/chaochuan/TSGym/test_results/{model}.npz', allow_pickle=True)\n",
    "        fit_time = np.load(f'/data/coding/chaochuan/TSGym/test_results/{model}_fit_time_per_epoch.npz', allow_pickle=True)\n",
    "    except Exception as error:\n",
    "        print(f'error while fitting model: {model}')\n",
    "        pass\n",
    "        continue\n",
    "    \n",
    "    result_dict[model] = result[metric].item()['Average']\n",
    "    time_dict[model] = fit_time['time'].item()"
   ]
  },
  {
   "attachments": {
    "image.png": {
     "image/png": "[encoded data removed]"
    }
   },
   "cell_type": "markdown",
   "metadata": {},
   "source": [
    "![image.png](attachment:image.png)"
   ]
  },
  {
   "cell_type": "code",
   "execution_count": 7,
   "metadata": {},
   "outputs": [],
   "source": [
    "# smape: symmetric mean absolute percentage error\n",
    "# mape: mean absolute percentage error\n",
    "# mase: mean absolute scaled error\n",
    "# owa: overall weighted average"
   ]
  },
  {
   "cell_type": "code",
   "execution_count": 11,
   "metadata": {},
   "outputs": [
    {
     "data": {
      "text/html": [
       "<div>\n",
       "<style scoped>\n",
       "    .dataframe tbody tr th:only-of-type {\n",
       "        vertical-align: middle;\n",
       "    }\n",
       "\n",
       "    .dataframe tbody tr th {\n",
       "        vertical-align: top;\n",
       "    }\n",
       "\n",
       "    .dataframe thead th {\n",
       "        text-align: right;\n",
       "    }\n",
       "</style>\n",
       "<table border=\"1\" class=\"dataframe\">\n",
       "  <thead>\n",
       "    <tr style=\"text-align: right;\">\n",
       "      <th></th>\n",
       "      <th>0</th>\n",
       "    </tr>\n",
       "  </thead>\n",
       "  <tbody>\n",
       "    <tr>\n",
       "      <th>m4_FiLM</th>\n",
       "      <td>15.074</td>\n",
       "    </tr>\n",
       "    <tr>\n",
       "      <th>m4_Reformer</th>\n",
       "      <td>15.598</td>\n",
       "    </tr>\n",
       "    <tr>\n",
       "      <th>m4_Transformer</th>\n",
       "      <td>66.470</td>\n",
       "    </tr>\n",
       "    <tr>\n",
       "      <th>m4_TimeMixer</th>\n",
       "      <td>13.990</td>\n",
       "    </tr>\n",
       "    <tr>\n",
       "      <th>m4_DLinear</th>\n",
       "      <td>14.959</td>\n",
       "    </tr>\n",
       "    <tr>\n",
       "      <th>m4_Autoformer</th>\n",
       "      <td>20.903</td>\n",
       "    </tr>\n",
       "    <tr>\n",
       "      <th>m4_MICN</th>\n",
       "      <td>15.802</td>\n",
       "    </tr>\n",
       "    <tr>\n",
       "      <th>m4_Pyraformer</th>\n",
       "      <td>16.739</td>\n",
       "    </tr>\n",
       "    <tr>\n",
       "      <th>m4_Nonstationary_Transformer</th>\n",
       "      <td>NaN</td>\n",
       "    </tr>\n",
       "    <tr>\n",
       "      <th>m4_TimesNet</th>\n",
       "      <td>14.029</td>\n",
       "    </tr>\n",
       "    <tr>\n",
       "      <th>m4_iTransformer</th>\n",
       "      <td>15.494</td>\n",
       "    </tr>\n",
       "    <tr>\n",
       "      <th>m4_Informer</th>\n",
       "      <td>18.592</td>\n",
       "    </tr>\n",
       "    <tr>\n",
       "      <th>m4_LightTS</th>\n",
       "      <td>13.987</td>\n",
       "    </tr>\n",
       "    <tr>\n",
       "      <th>m4_Mamba</th>\n",
       "      <td>14.433</td>\n",
       "    </tr>\n",
       "    <tr>\n",
       "      <th>m4_Crossformer</th>\n",
       "      <td>65.332</td>\n",
       "    </tr>\n",
       "  </tbody>\n",
       "</table>\n",
       "</div>"
      ],
      "text/plain": [
       "                                   0\n",
       "m4_FiLM                       15.074\n",
       "m4_Reformer                   15.598\n",
       "m4_Transformer                66.470\n",
       "m4_TimeMixer                  13.990\n",
       "m4_DLinear                    14.959\n",
       "m4_Autoformer                 20.903\n",
       "m4_MICN                       15.802\n",
       "m4_Pyraformer                 16.739\n",
       "m4_Nonstationary_Transformer     NaN\n",
       "m4_TimesNet                   14.029\n",
       "m4_iTransformer               15.494\n",
       "m4_Informer                   18.592\n",
       "m4_LightTS                    13.987\n",
       "m4_Mamba                      14.433\n",
       "m4_Crossformer                65.332"
      ]
     },
     "execution_count": 11,
     "metadata": {},
     "output_type": "execute_result"
    }
   ],
   "source": [
    "pd.DataFrame.from_dict(result_dict, orient='index')"
   ]
  },
  {
   "cell_type": "code",
   "execution_count": 13,
   "metadata": {},
   "outputs": [
    {
     "data": {
      "text/html": [
       "<div>\n",
       "<style scoped>\n",
       "    .dataframe tbody tr th:only-of-type {\n",
       "        vertical-align: middle;\n",
       "    }\n",
       "\n",
       "    .dataframe tbody tr th {\n",
       "        vertical-align: top;\n",
       "    }\n",
       "\n",
       "    .dataframe thead th {\n",
       "        text-align: right;\n",
       "    }\n",
       "</style>\n",
       "<table border=\"1\" class=\"dataframe\">\n",
       "  <thead>\n",
       "    <tr style=\"text-align: right;\">\n",
       "      <th></th>\n",
       "      <th>0</th>\n",
       "    </tr>\n",
       "  </thead>\n",
       "  <tbody>\n",
       "    <tr>\n",
       "      <th>m4_FiLM</th>\n",
       "      <td>12.328455</td>\n",
       "    </tr>\n",
       "    <tr>\n",
       "      <th>m4_Reformer</th>\n",
       "      <td>4.542124</td>\n",
       "    </tr>\n",
       "    <tr>\n",
       "      <th>m4_Transformer</th>\n",
       "      <td>5.381274</td>\n",
       "    </tr>\n",
       "    <tr>\n",
       "      <th>m4_TimeMixer</th>\n",
       "      <td>1.296728</td>\n",
       "    </tr>\n",
       "    <tr>\n",
       "      <th>m4_DLinear</th>\n",
       "      <td>2.936140</td>\n",
       "    </tr>\n",
       "    <tr>\n",
       "      <th>m4_Autoformer</th>\n",
       "      <td>6.846592</td>\n",
       "    </tr>\n",
       "    <tr>\n",
       "      <th>m4_MICN</th>\n",
       "      <td>5.162823</td>\n",
       "    </tr>\n",
       "    <tr>\n",
       "      <th>m4_Pyraformer</th>\n",
       "      <td>5.926972</td>\n",
       "    </tr>\n",
       "    <tr>\n",
       "      <th>m4_Nonstationary_Transformer</th>\n",
       "      <td>5.125334</td>\n",
       "    </tr>\n",
       "    <tr>\n",
       "      <th>m4_TimesNet</th>\n",
       "      <td>5.352328</td>\n",
       "    </tr>\n",
       "    <tr>\n",
       "      <th>m4_iTransformer</th>\n",
       "      <td>3.893759</td>\n",
       "    </tr>\n",
       "    <tr>\n",
       "      <th>m4_Informer</th>\n",
       "      <td>4.753171</td>\n",
       "    </tr>\n",
       "    <tr>\n",
       "      <th>m4_LightTS</th>\n",
       "      <td>4.206566</td>\n",
       "    </tr>\n",
       "    <tr>\n",
       "      <th>m4_Mamba</th>\n",
       "      <td>3.624895</td>\n",
       "    </tr>\n",
       "    <tr>\n",
       "      <th>m4_Crossformer</th>\n",
       "      <td>7.317988</td>\n",
       "    </tr>\n",
       "  </tbody>\n",
       "</table>\n",
       "</div>"
      ],
      "text/plain": [
       "                                      0\n",
       "m4_FiLM                       12.328455\n",
       "m4_Reformer                    4.542124\n",
       "m4_Transformer                 5.381274\n",
       "m4_TimeMixer                   1.296728\n",
       "m4_DLinear                     2.936140\n",
       "m4_Autoformer                  6.846592\n",
       "m4_MICN                        5.162823\n",
       "m4_Pyraformer                  5.926972\n",
       "m4_Nonstationary_Transformer   5.125334\n",
       "m4_TimesNet                    5.352328\n",
       "m4_iTransformer                3.893759\n",
       "m4_Informer                    4.753171\n",
       "m4_LightTS                     4.206566\n",
       "m4_Mamba                       3.624895\n",
       "m4_Crossformer                 7.317988"
      ]
     },
     "execution_count": 13,
     "metadata": {},
     "output_type": "execute_result"
    }
   ],
   "source": [
    "pd.DataFrame.from_dict(time_dict, orient='index')"
   ]
  }
 ],
 "metadata": {
  "kernelspec": {
   "display_name": "Python 3",
   "language": "python",
   "name": "python3"
  },
  "language_info": {
   "codemirror_mode": {
    "name": "ipython",
    "version": 3
   },
   "file_extension": ".py",
   "mimetype": "text/x-python",
   "name": "python",
   "nbconvert_exporter": "python",
   "pygments_lexer": "ipython3",
   "version": "3.10.12"
  }
 },
 "nbformat": 4,
 "nbformat_minor": 2
}
