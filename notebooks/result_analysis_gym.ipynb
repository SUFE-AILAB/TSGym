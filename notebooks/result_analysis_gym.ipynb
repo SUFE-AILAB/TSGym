{
 "cells": [
  {
   "cell_type": "code",
   "execution_count": 13,
   "metadata": {},
   "outputs": [],
   "source": [
    "import pandas as pd\n",
    "import numpy as np\n",
    "import os"
   ]
  },
  {
   "cell_type": "code",
   "execution_count": 14,
   "metadata": {},
   "outputs": [],
   "source": [
    "# smape: symmetric mean absolute percentage error\n",
    "# mape: mean absolute percentage error\n",
    "# mase: mean absolute scaled error\n",
    "# owa: overall weighted average"
   ]
  },
  {
   "attachments": {
    "image.png": {
     "image/png": "[encoded data removed]"
    }
   },
   "cell_type": "markdown",
   "metadata": {},
   "source": [
    "![image.png](attachment:image.png)"
   ]
  },
  {
   "cell_type": "code",
   "execution_count": 15,
   "metadata": {},
   "outputs": [
    {
     "name": "stdout",
     "output_type": "stream",
     "text": [
      "['m4_TransformerGym_None_positional-encoding_self-attention', 'm4_TransformerGym_stationary_series-patching_sparse-attention', 'm4_TransformerGym_None_positional-encoding_sparse-attention', 'm4_TransformerGym_None_series-patching_sparse-attention', 'm4_TransformerGym_stationary_positional-encoding_self-attention', 'm4_TransformerGym_stationary_series-patching_self-attention', 'm4_TransformerGym_stationary_series-patching_destationary-attention', 'm4_TransformerGym_None_series-patching_self-attention', 'm4_TransformerGym_stationary_positional-encoding_sparse-attention', 'm4_TransformerGym_stationary_positional-encoding_destationary-attention', 'm4_TransformerGym_None_positional-encoding_destationary-attention', 'm4_TransformerGym_None_series-patching_destationary-attention']\n"
     ]
    }
   ],
   "source": [
    "freqs = ['Hourly', 'Daily', 'Weekly', 'Monthly', 'Quarterly', 'Yearly']\n",
    "path = '/data/coding/chaochuan/TSGym/test_resultsGym'\n",
    "model_list = os.listdir(path)\n",
    "model_list = list(set([_.replace('_fit_time_per_epoch', '').replace('.npz', '') for _ in model_list if _.endswith('.npz') ]))\n",
    "model_list = [m for m in model_list if all(k not in m for k in freqs)]\n",
    "print(model_list)"
   ]
  },
  {
   "cell_type": "code",
   "execution_count": 21,
   "metadata": {},
   "outputs": [],
   "source": [
    "metric = 'smape'\n",
    "result_dict, time_dict = {}, {}\n",
    "for model in model_list:\n",
    "    time_dict[model] = {}\n",
    "    try:\n",
    "        result = np.load(f'{path}/{model}.npz', allow_pickle=True)\n",
    "        # for freq in freqs:\n",
    "        #     fit_time_per_epoch = np.load(f\"{path}/{model.replace('m4', f'm4_{freq}')}_fit_time_per_epoch.npz\", allow_pickle=True)\n",
    "        #     time_dict[model][freq] = fit_time_per_epoch['time'].item()\n",
    "    except Exception as error:\n",
    "        print(f'error while fitting model: {model}')\n",
    "        pass\n",
    "        continue\n",
    "    \n",
    "    result_dict[model] = result[metric].item()"
   ]
  },
  {
   "cell_type": "code",
   "execution_count": 22,
   "metadata": {},
   "outputs": [],
   "source": [
    "df_result = pd.DataFrame.from_dict(result_dict, orient='index')\n",
    "df_time = pd.DataFrame.from_dict(time_dict, orient='index')"
   ]
  },
  {
   "cell_type": "code",
   "execution_count": 23,
   "metadata": {},
   "outputs": [
    {
     "data": {
      "text/html": [
       "<div>\n",
       "<style scoped>\n",
       "    .dataframe tbody tr th:only-of-type {\n",
       "        vertical-align: middle;\n",
       "    }\n",
       "\n",
       "    .dataframe tbody tr th {\n",
       "        vertical-align: top;\n",
       "    }\n",
       "\n",
       "    .dataframe thead th {\n",
       "        text-align: right;\n",
       "    }\n",
       "</style>\n",
       "<table border=\"1\" class=\"dataframe\">\n",
       "  <thead>\n",
       "    <tr style=\"text-align: right;\">\n",
       "      <th></th>\n",
       "      <th>Yearly</th>\n",
       "      <th>Quarterly</th>\n",
       "      <th>Monthly</th>\n",
       "      <th>Others</th>\n",
       "      <th>Average</th>\n",
       "    </tr>\n",
       "  </thead>\n",
       "  <tbody>\n",
       "    <tr>\n",
       "      <th>m4_TransformerGym_None_positional-encoding_self-attention</th>\n",
       "      <td>69.467</td>\n",
       "      <td>73.854</td>\n",
       "      <td>69.729</td>\n",
       "      <td>106.259</td>\n",
       "      <td>72.485</td>\n",
       "    </tr>\n",
       "    <tr>\n",
       "      <th>m4_TransformerGym_stationary_series-patching_sparse-attention</th>\n",
       "      <td>15.832</td>\n",
       "      <td>16.215</td>\n",
       "      <td>18.924</td>\n",
       "      <td>6.426</td>\n",
       "      <td>16.938</td>\n",
       "    </tr>\n",
       "    <tr>\n",
       "      <th>m4_TransformerGym_None_positional-encoding_sparse-attention</th>\n",
       "      <td>69.416</td>\n",
       "      <td>74.001</td>\n",
       "      <td>70.071</td>\n",
       "      <td>106.238</td>\n",
       "      <td>72.672</td>\n",
       "    </tr>\n",
       "    <tr>\n",
       "      <th>m4_TransformerGym_None_series-patching_sparse-attention</th>\n",
       "      <td>NaN</td>\n",
       "      <td>NaN</td>\n",
       "      <td>NaN</td>\n",
       "      <td>NaN</td>\n",
       "      <td>NaN</td>\n",
       "    </tr>\n",
       "    <tr>\n",
       "      <th>m4_TransformerGym_stationary_positional-encoding_self-attention</th>\n",
       "      <td>17.299</td>\n",
       "      <td>16.119</td>\n",
       "      <td>14.804</td>\n",
       "      <td>7.452</td>\n",
       "      <td>15.326</td>\n",
       "    </tr>\n",
       "    <tr>\n",
       "      <th>m4_TransformerGym_stationary_series-patching_self-attention</th>\n",
       "      <td>15.923</td>\n",
       "      <td>13.682</td>\n",
       "      <td>18.963</td>\n",
       "      <td>7.703</td>\n",
       "      <td>16.433</td>\n",
       "    </tr>\n",
       "    <tr>\n",
       "      <th>m4_TransformerGym_stationary_series-patching_destationary-attention</th>\n",
       "      <td>15.923</td>\n",
       "      <td>13.682</td>\n",
       "      <td>18.963</td>\n",
       "      <td>7.703</td>\n",
       "      <td>16.433</td>\n",
       "    </tr>\n",
       "    <tr>\n",
       "      <th>m4_TransformerGym_None_series-patching_self-attention</th>\n",
       "      <td>NaN</td>\n",
       "      <td>NaN</td>\n",
       "      <td>NaN</td>\n",
       "      <td>NaN</td>\n",
       "      <td>NaN</td>\n",
       "    </tr>\n",
       "    <tr>\n",
       "      <th>m4_TransformerGym_stationary_positional-encoding_sparse-attention</th>\n",
       "      <td>16.121</td>\n",
       "      <td>13.009</td>\n",
       "      <td>15.669</td>\n",
       "      <td>7.033</td>\n",
       "      <td>14.703</td>\n",
       "    </tr>\n",
       "    <tr>\n",
       "      <th>m4_TransformerGym_stationary_positional-encoding_destationary-attention</th>\n",
       "      <td>17.299</td>\n",
       "      <td>16.119</td>\n",
       "      <td>14.804</td>\n",
       "      <td>7.452</td>\n",
       "      <td>15.326</td>\n",
       "    </tr>\n",
       "    <tr>\n",
       "      <th>m4_TransformerGym_None_positional-encoding_destationary-attention</th>\n",
       "      <td>69.467</td>\n",
       "      <td>73.854</td>\n",
       "      <td>69.729</td>\n",
       "      <td>106.259</td>\n",
       "      <td>72.485</td>\n",
       "    </tr>\n",
       "    <tr>\n",
       "      <th>m4_TransformerGym_None_series-patching_destationary-attention</th>\n",
       "      <td>NaN</td>\n",
       "      <td>NaN</td>\n",
       "      <td>NaN</td>\n",
       "      <td>NaN</td>\n",
       "      <td>NaN</td>\n",
       "    </tr>\n",
       "  </tbody>\n",
       "</table>\n",
       "</div>"
      ],
      "text/plain": [
       "                                                    Yearly  Quarterly  \\\n",
       "m4_TransformerGym_None_positional-encoding_self...  69.467     73.854   \n",
       "m4_TransformerGym_stationary_series-patching_sp...  15.832     16.215   \n",
       "m4_TransformerGym_None_positional-encoding_spar...  69.416     74.001   \n",
       "m4_TransformerGym_None_series-patching_sparse-a...     NaN        NaN   \n",
       "m4_TransformerGym_stationary_positional-encodin...  17.299     16.119   \n",
       "m4_TransformerGym_stationary_series-patching_se...  15.923     13.682   \n",
       "m4_TransformerGym_stationary_series-patching_de...  15.923     13.682   \n",
       "m4_TransformerGym_None_series-patching_self-att...     NaN        NaN   \n",
       "m4_TransformerGym_stationary_positional-encodin...  16.121     13.009   \n",
       "m4_TransformerGym_stationary_positional-encodin...  17.299     16.119   \n",
       "m4_TransformerGym_None_positional-encoding_dest...  69.467     73.854   \n",
       "m4_TransformerGym_None_series-patching_destatio...     NaN        NaN   \n",
       "\n",
       "                                                    Monthly   Others  Average  \n",
       "m4_TransformerGym_None_positional-encoding_self...   69.729  106.259   72.485  \n",
       "m4_TransformerGym_stationary_series-patching_sp...   18.924    6.426   16.938  \n",
       "m4_TransformerGym_None_positional-encoding_spar...   70.071  106.238   72.672  \n",
       "m4_TransformerGym_None_series-patching_sparse-a...      NaN      NaN      NaN  \n",
       "m4_TransformerGym_stationary_positional-encodin...   14.804    7.452   15.326  \n",
       "m4_TransformerGym_stationary_series-patching_se...   18.963    7.703   16.433  \n",
       "m4_TransformerGym_stationary_series-patching_de...   18.963    7.703   16.433  \n",
       "m4_TransformerGym_None_series-patching_self-att...      NaN      NaN      NaN  \n",
       "m4_TransformerGym_stationary_positional-encodin...   15.669    7.033   14.703  \n",
       "m4_TransformerGym_stationary_positional-encodin...   14.804    7.452   15.326  \n",
       "m4_TransformerGym_None_positional-encoding_dest...   69.729  106.259   72.485  \n",
       "m4_TransformerGym_None_series-patching_destatio...      NaN      NaN      NaN  "
      ]
     },
     "execution_count": 23,
     "metadata": {},
     "output_type": "execute_result"
    }
   ],
   "source": [
    "df_result"
   ]
  },
  {
   "cell_type": "code",
   "execution_count": null,
   "metadata": {},
   "outputs": [
    {
     "data": {
      "text/html": [
       "<div>\n",
       "<style scoped>\n",
       "    .dataframe tbody tr th:only-of-type {\n",
       "        vertical-align: middle;\n",
       "    }\n",
       "\n",
       "    .dataframe tbody tr th {\n",
       "        vertical-align: top;\n",
       "    }\n",
       "\n",
       "    .dataframe thead th {\n",
       "        text-align: right;\n",
       "    }\n",
       "</style>\n",
       "<table border=\"1\" class=\"dataframe\">\n",
       "  <thead>\n",
       "    <tr style=\"text-align: right;\">\n",
       "      <th></th>\n",
       "    </tr>\n",
       "  </thead>\n",
       "  <tbody>\n",
       "  </tbody>\n",
       "</table>\n",
       "</div>"
      ],
      "text/plain": [
       "Empty DataFrame\n",
       "Columns: []\n",
       "Index: []"
      ]
     },
     "execution_count": 24,
     "metadata": {},
     "output_type": "execute_result"
    },
    {
     "ename": "",
     "evalue": "",
     "output_type": "error",
     "traceback": [
      "\u001b[1;31mThe Kernel crashed while executing code in the current cell or a previous cell. \n",
      "\u001b[1;31mPlease review the code in the cell(s) to identify a possible cause of the failure. \n",
      "\u001b[1;31mClick <a href='https://aka.ms/vscodeJupyterKernelCrash'>here</a> for more info. \n",
      "\u001b[1;31mView Jupyter <a href='command:jupyter.viewOutput'>log</a> for further details."
     ]
    }
   ],
   "source": [
    "df_time"
   ]
  },
  {
   "cell_type": "code",
   "execution_count": 20,
   "metadata": {},
   "outputs": [
    {
     "ename": "KeyError",
     "evalue": "'Average'",
     "output_type": "error",
     "traceback": [
      "\u001b[0;31m---------------------------------------------------------------------------\u001b[0m",
      "\u001b[0;31mKeyError\u001b[0m                                  Traceback (most recent call last)",
      "File \u001b[0;32m~/.local/lib/python3.10/site-packages/pandas/core/indexes/base.py:3802\u001b[0m, in \u001b[0;36mIndex.get_loc\u001b[0;34m(self, key, method, tolerance)\u001b[0m\n\u001b[1;32m   3801\u001b[0m \u001b[38;5;28;01mtry\u001b[39;00m:\n\u001b[0;32m-> 3802\u001b[0m     \u001b[38;5;28;01mreturn\u001b[39;00m \u001b[38;5;28;43mself\u001b[39;49m\u001b[38;5;241;43m.\u001b[39;49m\u001b[43m_engine\u001b[49m\u001b[38;5;241;43m.\u001b[39;49m\u001b[43mget_loc\u001b[49m\u001b[43m(\u001b[49m\u001b[43mcasted_key\u001b[49m\u001b[43m)\u001b[49m\n\u001b[1;32m   3803\u001b[0m \u001b[38;5;28;01mexcept\u001b[39;00m \u001b[38;5;167;01mKeyError\u001b[39;00m \u001b[38;5;28;01mas\u001b[39;00m err:\n",
      "File \u001b[0;32m~/.local/lib/python3.10/site-packages/pandas/_libs/index.pyx:138\u001b[0m, in \u001b[0;36mpandas._libs.index.IndexEngine.get_loc\u001b[0;34m()\u001b[0m\n",
      "File \u001b[0;32m~/.local/lib/python3.10/site-packages/pandas/_libs/index.pyx:165\u001b[0m, in \u001b[0;36mpandas._libs.index.IndexEngine.get_loc\u001b[0;34m()\u001b[0m\n",
      "File \u001b[0;32mpandas/_libs/hashtable_class_helper.pxi:5745\u001b[0m, in \u001b[0;36mpandas._libs.hashtable.PyObjectHashTable.get_item\u001b[0;34m()\u001b[0m\n",
      "File \u001b[0;32mpandas/_libs/hashtable_class_helper.pxi:5753\u001b[0m, in \u001b[0;36mpandas._libs.hashtable.PyObjectHashTable.get_item\u001b[0;34m()\u001b[0m\n",
      "\u001b[0;31mKeyError\u001b[0m: 'Average'",
      "\nThe above exception was the direct cause of the following exception:\n",
      "\u001b[0;31mKeyError\u001b[0m                                  Traceback (most recent call last)",
      "Cell \u001b[0;32mIn[20], line 1\u001b[0m\n\u001b[0;32m----> 1\u001b[0m df_result_avg \u001b[38;5;241m=\u001b[39m \u001b[43mdf_result\u001b[49m\u001b[43m[\u001b[49m\u001b[38;5;124;43m'\u001b[39;49m\u001b[38;5;124;43mAverage\u001b[39;49m\u001b[38;5;124;43m'\u001b[39;49m\u001b[43m]\u001b[49m\n\u001b[1;32m      2\u001b[0m df_time_avg \u001b[38;5;241m=\u001b[39m ((df_time \u001b[38;5;241m-\u001b[39m df_time\u001b[38;5;241m.\u001b[39mmean(axis\u001b[38;5;241m=\u001b[39m\u001b[38;5;241m0\u001b[39m)) \u001b[38;5;241m/\u001b[39m df_time\u001b[38;5;241m.\u001b[39mstd(axis\u001b[38;5;241m=\u001b[39m\u001b[38;5;241m0\u001b[39m) \u001b[38;5;241m+\u001b[39m \u001b[38;5;241m10\u001b[39m)\u001b[38;5;241m.\u001b[39mmean(axis\u001b[38;5;241m=\u001b[39m\u001b[38;5;241m1\u001b[39m)\n\u001b[1;32m      4\u001b[0m df_result_avg \u001b[38;5;241m*\u001b[39m df_time_avg\n",
      "File \u001b[0;32m~/.local/lib/python3.10/site-packages/pandas/core/frame.py:3807\u001b[0m, in \u001b[0;36mDataFrame.__getitem__\u001b[0;34m(self, key)\u001b[0m\n\u001b[1;32m   3805\u001b[0m \u001b[38;5;28;01mif\u001b[39;00m \u001b[38;5;28mself\u001b[39m\u001b[38;5;241m.\u001b[39mcolumns\u001b[38;5;241m.\u001b[39mnlevels \u001b[38;5;241m>\u001b[39m \u001b[38;5;241m1\u001b[39m:\n\u001b[1;32m   3806\u001b[0m     \u001b[38;5;28;01mreturn\u001b[39;00m \u001b[38;5;28mself\u001b[39m\u001b[38;5;241m.\u001b[39m_getitem_multilevel(key)\n\u001b[0;32m-> 3807\u001b[0m indexer \u001b[38;5;241m=\u001b[39m \u001b[38;5;28;43mself\u001b[39;49m\u001b[38;5;241;43m.\u001b[39;49m\u001b[43mcolumns\u001b[49m\u001b[38;5;241;43m.\u001b[39;49m\u001b[43mget_loc\u001b[49m\u001b[43m(\u001b[49m\u001b[43mkey\u001b[49m\u001b[43m)\u001b[49m\n\u001b[1;32m   3808\u001b[0m \u001b[38;5;28;01mif\u001b[39;00m is_integer(indexer):\n\u001b[1;32m   3809\u001b[0m     indexer \u001b[38;5;241m=\u001b[39m [indexer]\n",
      "File \u001b[0;32m~/.local/lib/python3.10/site-packages/pandas/core/indexes/base.py:3804\u001b[0m, in \u001b[0;36mIndex.get_loc\u001b[0;34m(self, key, method, tolerance)\u001b[0m\n\u001b[1;32m   3802\u001b[0m     \u001b[38;5;28;01mreturn\u001b[39;00m \u001b[38;5;28mself\u001b[39m\u001b[38;5;241m.\u001b[39m_engine\u001b[38;5;241m.\u001b[39mget_loc(casted_key)\n\u001b[1;32m   3803\u001b[0m \u001b[38;5;28;01mexcept\u001b[39;00m \u001b[38;5;167;01mKeyError\u001b[39;00m \u001b[38;5;28;01mas\u001b[39;00m err:\n\u001b[0;32m-> 3804\u001b[0m     \u001b[38;5;28;01mraise\u001b[39;00m \u001b[38;5;167;01mKeyError\u001b[39;00m(key) \u001b[38;5;28;01mfrom\u001b[39;00m \u001b[38;5;21;01merr\u001b[39;00m\n\u001b[1;32m   3805\u001b[0m \u001b[38;5;28;01mexcept\u001b[39;00m \u001b[38;5;167;01mTypeError\u001b[39;00m:\n\u001b[1;32m   3806\u001b[0m     \u001b[38;5;66;03m# If we have a listlike key, _check_indexing_error will raise\u001b[39;00m\n\u001b[1;32m   3807\u001b[0m     \u001b[38;5;66;03m#  InvalidIndexError. Otherwise we fall through and re-raise\u001b[39;00m\n\u001b[1;32m   3808\u001b[0m     \u001b[38;5;66;03m#  the TypeError.\u001b[39;00m\n\u001b[1;32m   3809\u001b[0m     \u001b[38;5;28mself\u001b[39m\u001b[38;5;241m.\u001b[39m_check_indexing_error(key)\n",
      "\u001b[0;31mKeyError\u001b[0m: 'Average'"
     ]
    }
   ],
   "source": [
    "df_result_avg = df_result['Average']\n",
    "df_time_avg = ((df_time - df_time.mean(axis=0)) / df_time.std(axis=0) + 10).mean(axis=1)\n",
    "\n",
    "df_result_avg * df_time_avg"
   ]
  }
 ],
 "metadata": {
  "kernelspec": {
   "display_name": "Python 3",
   "language": "python",
   "name": "python3"
  },
  "language_info": {
   "codemirror_mode": {
    "name": "ipython",
    "version": 3
   },
   "file_extension": ".py",
   "mimetype": "text/x-python",
   "name": "python",
   "nbconvert_exporter": "python",
   "pygments_lexer": "ipython3",
   "version": "3.10.12"
  }
 },
 "nbformat": 4,
 "nbformat_minor": 2
}
