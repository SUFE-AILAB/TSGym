{
 "cells": [
  {
   "cell_type": "code",
   "execution_count": 1,
   "metadata": {},
   "outputs": [],
   "source": [
    "from itertools import product"
   ]
  },
  {
   "cell_type": "code",
   "execution_count": 2,
   "metadata": {},
   "outputs": [],
   "source": [
    "# gym_series_norm=None,\n",
    "# gym_series_decomp=None,\n",
    "# gym_input_embed='series-patching',\n",
    "# gym_network_architecture='MLP',\n",
    "# gym_attn='sparse-attention',\n",
    "# gym_encoder_only=True,"
   ]
  },
  {
   "cell_type": "code",
   "execution_count": 3,
   "metadata": {},
   "outputs": [],
   "source": [
    "model_names = ['_'.join(list(_)) for _ in list(product(['TSGym'],\n",
    "                                                       ['None', 'Stat', 'RevIN'], # gym_series_norm\n",
    "                                                       ['False', 'True'], # gym_series_decomp\n",
    "                                                       ['positional-encoding'], # gym_input_embed\n",
    "                                                       ['Transformer'], # gym_network_architecture\n",
    "                                                       ['self-attention', 'auto-correlation', 'sparse-attention', 'frequency-enhanced-attention'], # gym_attn\n",
    "                                                       ['True'] # gym_encoder_only\n",
    "                                                       ))] +\\\n",
    "                ['_'.join(list(_)) for _ in list(product(['TSGym'],\n",
    "                                                        ['None', 'Stat', 'RevIN'], # gym_series_norm\n",
    "                                                        ['False', 'True'], # gym_series_decomp\n",
    "                                                        ['positional-encoding'], # gym_input_embed\n",
    "                                                        ['MLP', 'GRU'], # gym_network_architecture\n",
    "                                                        ['null'], # gym_attn\n",
    "                                                        ['True'] # gym_encoder_only\n",
    "                                                        ))]\n"
   ]
  },
  {
   "cell_type": "code",
   "execution_count": 4,
   "metadata": {},
   "outputs": [
    {
     "data": {
      "text/plain": [
       "['TSGym_None_False_positional-encoding_Transformer_self-attention_True',\n",
       " 'TSGym_None_False_positional-encoding_Transformer_auto-correlation_True',\n",
       " 'TSGym_None_False_positional-encoding_Transformer_sparse-attention_True',\n",
       " 'TSGym_None_False_positional-encoding_Transformer_frequency-enhanced-attention_True',\n",
       " 'TSGym_None_True_positional-encoding_Transformer_self-attention_True',\n",
       " 'TSGym_None_True_positional-encoding_Transformer_auto-correlation_True',\n",
       " 'TSGym_None_True_positional-encoding_Transformer_sparse-attention_True',\n",
       " 'TSGym_None_True_positional-encoding_Transformer_frequency-enhanced-attention_True',\n",
       " 'TSGym_Stat_False_positional-encoding_Transformer_self-attention_True',\n",
       " 'TSGym_Stat_False_positional-encoding_Transformer_auto-correlation_True',\n",
       " 'TSGym_Stat_False_positional-encoding_Transformer_sparse-attention_True',\n",
       " 'TSGym_Stat_False_positional-encoding_Transformer_frequency-enhanced-attention_True',\n",
       " 'TSGym_Stat_True_positional-encoding_Transformer_self-attention_True',\n",
       " 'TSGym_Stat_True_positional-encoding_Transformer_auto-correlation_True',\n",
       " 'TSGym_Stat_True_positional-encoding_Transformer_sparse-attention_True',\n",
       " 'TSGym_Stat_True_positional-encoding_Transformer_frequency-enhanced-attention_True',\n",
       " 'TSGym_RevIN_False_positional-encoding_Transformer_self-attention_True',\n",
       " 'TSGym_RevIN_False_positional-encoding_Transformer_auto-correlation_True',\n",
       " 'TSGym_RevIN_False_positional-encoding_Transformer_sparse-attention_True',\n",
       " 'TSGym_RevIN_False_positional-encoding_Transformer_frequency-enhanced-attention_True',\n",
       " 'TSGym_RevIN_True_positional-encoding_Transformer_self-attention_True',\n",
       " 'TSGym_RevIN_True_positional-encoding_Transformer_auto-correlation_True',\n",
       " 'TSGym_RevIN_True_positional-encoding_Transformer_sparse-attention_True',\n",
       " 'TSGym_RevIN_True_positional-encoding_Transformer_frequency-enhanced-attention_True',\n",
       " 'TSGym_None_False_positional-encoding_MLP_null_True',\n",
       " 'TSGym_None_False_positional-encoding_GRU_null_True',\n",
       " 'TSGym_None_True_positional-encoding_MLP_null_True',\n",
       " 'TSGym_None_True_positional-encoding_GRU_null_True',\n",
       " 'TSGym_Stat_False_positional-encoding_MLP_null_True',\n",
       " 'TSGym_Stat_False_positional-encoding_GRU_null_True',\n",
       " 'TSGym_Stat_True_positional-encoding_MLP_null_True',\n",
       " 'TSGym_Stat_True_positional-encoding_GRU_null_True',\n",
       " 'TSGym_RevIN_False_positional-encoding_MLP_null_True',\n",
       " 'TSGym_RevIN_False_positional-encoding_GRU_null_True',\n",
       " 'TSGym_RevIN_True_positional-encoding_MLP_null_True',\n",
       " 'TSGym_RevIN_True_positional-encoding_GRU_null_True']"
      ]
     },
     "execution_count": 4,
     "metadata": {},
     "output_type": "execute_result"
    }
   ],
   "source": [
    "print(len(model_names), model_names)"
   ]
  },
  {
   "cell_type": "code",
   "execution_count": 24,
   "metadata": {},
   "outputs": [
    {
     "data": {
      "text/plain": [
       "36"
      ]
     },
     "execution_count": 24,
     "metadata": {},
     "output_type": "execute_result"
    }
   ],
   "source": []
  },
  {
   "cell_type": "code",
   "execution_count": null,
   "metadata": {},
   "outputs": [
    {
     "name": "stdout",
     "output_type": "stream",
     "text": [
      "Generated /data/coding/chaochuan/TSGym/scripts/short_term_forecast/gym/TSGym_None_False_positional-encoding_Transformer_self-attention_True_M4.sh\n",
      "Generated /data/coding/chaochuan/TSGym/scripts/short_term_forecast/gym/TSGym_None_False_positional-encoding_Transformer_auto-correlation_True_M4.sh\n",
      "Generated /data/coding/chaochuan/TSGym/scripts/short_term_forecast/gym/TSGym_None_False_positional-encoding_Transformer_sparse-attention_True_M4.sh\n",
      "Generated /data/coding/chaochuan/TSGym/scripts/short_term_forecast/gym/TSGym_None_False_positional-encoding_Transformer_frequency-enhanced-attention_True_M4.sh\n",
      "Generated /data/coding/chaochuan/TSGym/scripts/short_term_forecast/gym/TSGym_None_True_positional-encoding_Transformer_self-attention_True_M4.sh\n",
      "Generated /data/coding/chaochuan/TSGym/scripts/short_term_forecast/gym/TSGym_None_True_positional-encoding_Transformer_auto-correlation_True_M4.sh\n",
      "Generated /data/coding/chaochuan/TSGym/scripts/short_term_forecast/gym/TSGym_None_True_positional-encoding_Transformer_sparse-attention_True_M4.sh\n",
      "Generated /data/coding/chaochuan/TSGym/scripts/short_term_forecast/gym/TSGym_None_True_positional-encoding_Transformer_frequency-enhanced-attention_True_M4.sh\n",
      "Generated /data/coding/chaochuan/TSGym/scripts/short_term_forecast/gym/TSGym_Stat_False_positional-encoding_Transformer_self-attention_True_M4.sh\n",
      "Generated /data/coding/chaochuan/TSGym/scripts/short_term_forecast/gym/TSGym_Stat_False_positional-encoding_Transformer_auto-correlation_True_M4.sh\n",
      "Generated /data/coding/chaochuan/TSGym/scripts/short_term_forecast/gym/TSGym_Stat_False_positional-encoding_Transformer_sparse-attention_True_M4.sh\n",
      "Generated /data/coding/chaochuan/TSGym/scripts/short_term_forecast/gym/TSGym_Stat_False_positional-encoding_Transformer_frequency-enhanced-attention_True_M4.sh\n",
      "Generated /data/coding/chaochuan/TSGym/scripts/short_term_forecast/gym/TSGym_Stat_True_positional-encoding_Transformer_self-attention_True_M4.sh\n",
      "Generated /data/coding/chaochuan/TSGym/scripts/short_term_forecast/gym/TSGym_Stat_True_positional-encoding_Transformer_auto-correlation_True_M4.sh\n",
      "Generated /data/coding/chaochuan/TSGym/scripts/short_term_forecast/gym/TSGym_Stat_True_positional-encoding_Transformer_sparse-attention_True_M4.sh\n",
      "Generated /data/coding/chaochuan/TSGym/scripts/short_term_forecast/gym/TSGym_Stat_True_positional-encoding_Transformer_frequency-enhanced-attention_True_M4.sh\n",
      "Generated /data/coding/chaochuan/TSGym/scripts/short_term_forecast/gym/TSGym_RevIN_False_positional-encoding_Transformer_self-attention_True_M4.sh\n",
      "Generated /data/coding/chaochuan/TSGym/scripts/short_term_forecast/gym/TSGym_RevIN_False_positional-encoding_Transformer_auto-correlation_True_M4.sh\n",
      "Generated /data/coding/chaochuan/TSGym/scripts/short_term_forecast/gym/TSGym_RevIN_False_positional-encoding_Transformer_sparse-attention_True_M4.sh\n",
      "Generated /data/coding/chaochuan/TSGym/scripts/short_term_forecast/gym/TSGym_RevIN_False_positional-encoding_Transformer_frequency-enhanced-attention_True_M4.sh\n",
      "Generated /data/coding/chaochuan/TSGym/scripts/short_term_forecast/gym/TSGym_RevIN_True_positional-encoding_Transformer_self-attention_True_M4.sh\n",
      "Generated /data/coding/chaochuan/TSGym/scripts/short_term_forecast/gym/TSGym_RevIN_True_positional-encoding_Transformer_auto-correlation_True_M4.sh\n",
      "Generated /data/coding/chaochuan/TSGym/scripts/short_term_forecast/gym/TSGym_RevIN_True_positional-encoding_Transformer_sparse-attention_True_M4.sh\n",
      "Generated /data/coding/chaochuan/TSGym/scripts/short_term_forecast/gym/TSGym_RevIN_True_positional-encoding_Transformer_frequency-enhanced-attention_True_M4.sh\n",
      "Generated /data/coding/chaochuan/TSGym/scripts/short_term_forecast/gym/TSGym_None_False_positional-encoding_MLP_null_True_M4.sh\n",
      "Generated /data/coding/chaochuan/TSGym/scripts/short_term_forecast/gym/TSGym_None_False_positional-encoding_GRU_null_True_M4.sh\n",
      "Generated /data/coding/chaochuan/TSGym/scripts/short_term_forecast/gym/TSGym_None_True_positional-encoding_MLP_null_True_M4.sh\n",
      "Generated /data/coding/chaochuan/TSGym/scripts/short_term_forecast/gym/TSGym_None_True_positional-encoding_GRU_null_True_M4.sh\n",
      "Generated /data/coding/chaochuan/TSGym/scripts/short_term_forecast/gym/TSGym_Stat_False_positional-encoding_MLP_null_True_M4.sh\n",
      "Generated /data/coding/chaochuan/TSGym/scripts/short_term_forecast/gym/TSGym_Stat_False_positional-encoding_GRU_null_True_M4.sh\n",
      "Generated /data/coding/chaochuan/TSGym/scripts/short_term_forecast/gym/TSGym_Stat_True_positional-encoding_MLP_null_True_M4.sh\n",
      "Generated /data/coding/chaochuan/TSGym/scripts/short_term_forecast/gym/TSGym_Stat_True_positional-encoding_GRU_null_True_M4.sh\n",
      "Generated /data/coding/chaochuan/TSGym/scripts/short_term_forecast/gym/TSGym_RevIN_False_positional-encoding_MLP_null_True_M4.sh\n",
      "Generated /data/coding/chaochuan/TSGym/scripts/short_term_forecast/gym/TSGym_RevIN_False_positional-encoding_GRU_null_True_M4.sh\n",
      "Generated /data/coding/chaochuan/TSGym/scripts/short_term_forecast/gym/TSGym_RevIN_True_positional-encoding_MLP_null_True_M4.sh\n",
      "Generated /data/coding/chaochuan/TSGym/scripts/short_term_forecast/gym/TSGym_RevIN_True_positional-encoding_GRU_null_True_M4.sh\n"
     ]
    },
    {
     "ename": "",
     "evalue": "",
     "output_type": "error",
     "traceback": [
      "\u001b[1;31mThe Kernel crashed while executing code in the current cell or a previous cell. \n",
      "\u001b[1;31mPlease review the code in the cell(s) to identify a possible cause of the failure. \n",
      "\u001b[1;31mClick <a href='https://aka.ms/vscodeJupyterKernelCrash'>here</a> for more info. \n",
      "\u001b[1;31mView Jupyter <a href='command:jupyter.viewOutput'>log</a> for further details."
     ]
    }
   ],
   "source": [
    "# 模板文件路径\n",
    "template_path = '/data/coding/chaochuan/TSGym/scripts/short_term_forecast/TSGym_M4.sh'\n",
    "# 输出目录\n",
    "output_dir = '/data/coding/chaochuan/TSGym/scripts/short_term_forecast/gym'\n",
    "\n",
    "# 确保输出目录存在\n",
    "import os\n",
    "os.makedirs(output_dir, exist_ok=True)\n",
    "\n",
    "# 读取模板内容\n",
    "with open(template_path, 'r') as file:\n",
    "    template_content = file.read()\n",
    "\n",
    "# 对于每个模型名称，生成一个 shell 脚本\n",
    "for model_name in model_names:\n",
    "    # 替换模型名称\n",
    "    script_content = template_content.replace('TransformerGym', model_name)\n",
    "    \n",
    "    # 定义输出文件名\n",
    "    output_file = os.path.join(output_dir, f'{model_name}_M4.sh')\n",
    "    \n",
    "    # 写入新的 shell 脚本\n",
    "    with open(output_file, 'w') as file:\n",
    "        file.write(script_content)\n",
    "\n",
    "    print(f'Generated {output_file}')"
   ]
  }
 ],
 "metadata": {
  "kernelspec": {
   "display_name": "Python 3",
   "language": "python",
   "name": "python3"
  },
  "language_info": {
   "codemirror_mode": {
    "name": "ipython",
    "version": 3
   },
   "file_extension": ".py",
   "mimetype": "text/x-python",
   "name": "python",
   "nbconvert_exporter": "python",
   "pygments_lexer": "ipython3",
   "version": "3.10.12"
  }
 },
 "nbformat": 4,
 "nbformat_minor": 2
}
