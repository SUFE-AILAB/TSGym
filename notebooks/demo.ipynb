{
 "cells": [
  {
   "cell_type": "code",
   "execution_count": 19,
   "metadata": {},
   "outputs": [],
   "source": [
    "from itertools import product"
   ]
  },
  {
   "cell_type": "code",
   "execution_count": 20,
   "metadata": {},
   "outputs": [],
   "source": [
    "model_names = ['_'.join(list(_)) for _ in list(product(['TransformerGym'], ['None', 'stationary'], ['positional-encoding', 'series-patching'], ['self-attention', 'sparse-attention', 'destationary-attention']))]"
   ]
  },
  {
   "cell_type": "code",
   "execution_count": 21,
   "metadata": {},
   "outputs": [
    {
     "name": "stdout",
     "output_type": "stream",
     "text": [
      "Generated /data/coding/chaochuan/TSGym/scripts/short_term_forecast/gym/TransformerGym_None_positional-encoding_self-attention_M4.sh\n",
      "Generated /data/coding/chaochuan/TSGym/scripts/short_term_forecast/gym/TransformerGym_None_positional-encoding_sparse-attention_M4.sh\n",
      "Generated /data/coding/chaochuan/TSGym/scripts/short_term_forecast/gym/TransformerGym_None_positional-encoding_destationary-attention_M4.sh\n",
      "Generated /data/coding/chaochuan/TSGym/scripts/short_term_forecast/gym/TransformerGym_None_series-patching_self-attention_M4.sh\n",
      "Generated /data/coding/chaochuan/TSGym/scripts/short_term_forecast/gym/TransformerGym_None_series-patching_sparse-attention_M4.sh\n",
      "Generated /data/coding/chaochuan/TSGym/scripts/short_term_forecast/gym/TransformerGym_None_series-patching_destationary-attention_M4.sh\n",
      "Generated /data/coding/chaochuan/TSGym/scripts/short_term_forecast/gym/TransformerGym_stationary_positional-encoding_self-attention_M4.sh\n",
      "Generated /data/coding/chaochuan/TSGym/scripts/short_term_forecast/gym/TransformerGym_stationary_positional-encoding_sparse-attention_M4.sh\n",
      "Generated /data/coding/chaochuan/TSGym/scripts/short_term_forecast/gym/TransformerGym_stationary_positional-encoding_destationary-attention_M4.sh\n",
      "Generated /data/coding/chaochuan/TSGym/scripts/short_term_forecast/gym/TransformerGym_stationary_series-patching_self-attention_M4.sh\n",
      "Generated /data/coding/chaochuan/TSGym/scripts/short_term_forecast/gym/TransformerGym_stationary_series-patching_sparse-attention_M4.sh\n",
      "Generated /data/coding/chaochuan/TSGym/scripts/short_term_forecast/gym/TransformerGym_stationary_series-patching_destationary-attention_M4.sh\n"
     ]
    }
   ],
   "source": [
    "# 模板文件路径\n",
    "template_path = '/data/coding/chaochuan/TSGym/scripts/short_term_forecast/TransformerGym_M4.sh'\n",
    "# 输出目录\n",
    "output_dir = '/data/coding/chaochuan/TSGym/scripts/short_term_forecast/gym'\n",
    "\n",
    "# 确保输出目录存在\n",
    "import os\n",
    "os.makedirs(output_dir, exist_ok=True)\n",
    "\n",
    "# 读取模板内容\n",
    "with open(template_path, 'r') as file:\n",
    "    template_content = file.read()\n",
    "\n",
    "# 对于每个模型名称，生成一个 shell 脚本\n",
    "for model_name in model_names:\n",
    "    # 替换模型名称\n",
    "    script_content = template_content.replace('TransformerGym', model_name)\n",
    "    \n",
    "    # 定义输出文件名\n",
    "    output_file = os.path.join(output_dir, f'{model_name}_M4.sh')\n",
    "    \n",
    "    # 写入新的 shell 脚本\n",
    "    with open(output_file, 'w') as file:\n",
    "        file.write(script_content)\n",
    "\n",
    "    print(f'Generated {output_file}')"
   ]
  },
  {
   "cell_type": "code",
   "execution_count": null,
   "metadata": {},
   "outputs": [],
   "source": []
  }
 ],
 "metadata": {
  "kernelspec": {
   "display_name": "Python 3",
   "language": "python",
   "name": "python3"
  },
  "language_info": {
   "codemirror_mode": {
    "name": "ipython",
    "version": 3
   },
   "file_extension": ".py",
   "mimetype": "text/x-python",
   "name": "python",
   "nbconvert_exporter": "python",
   "pygments_lexer": "ipython3",
   "version": "3.10.12"
  }
 },
 "nbformat": 4,
 "nbformat_minor": 2
}
