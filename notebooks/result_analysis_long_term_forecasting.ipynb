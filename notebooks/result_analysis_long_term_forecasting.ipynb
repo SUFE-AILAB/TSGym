{
 "cells": [
  {
   "cell_type": "code",
   "execution_count": 20,
   "metadata": {},
   "outputs": [],
   "source": [
    "import pandas as pd\n",
    "import numpy as np\n",
    "import os"
   ]
  },
  {
   "cell_type": "code",
   "execution_count": 21,
   "metadata": {},
   "outputs": [],
   "source": [
    "# metric in long-term-forecasting\n",
    "# mae, mse, rmse, mape, mspe"
   ]
  },
  {
   "cell_type": "code",
   "execution_count": 22,
   "metadata": {},
   "outputs": [],
   "source": [
    "dataset = 'fred-md'\n",
    "pred_lens = [96, 192, 336, 720] if dataset not in ['ili', 'fred-md', 'covid-19'] else [24]\n",
    "path = '/data/coding/chaochuan/TSGym/results'\n",
    "\n",
    "result_dict = {}\n",
    "for pred_len in pred_lens:\n",
    "    model_list = os.listdir(path)\n",
    "    model_list = [_ for _ in model_list if f'pl{pred_len}' in _ and dataset in _]\n",
    "    result_dict[pred_len] = {}\n",
    "    for model in model_list:\n",
    "        result = np.load(os.path.join(path, model, 'metrics.npy'), allow_pickle=True)\n",
    "        result_dict[pred_len][model] = result[1]"
   ]
  },
  {
   "cell_type": "code",
   "execution_count": 23,
   "metadata": {},
   "outputs": [
    {
     "data": {
      "text/html": [
       "<div>\n",
       "<style scoped>\n",
       "    .dataframe tbody tr th:only-of-type {\n",
       "        vertical-align: middle;\n",
       "    }\n",
       "\n",
       "    .dataframe tbody tr th {\n",
       "        vertical-align: top;\n",
       "    }\n",
       "\n",
       "    .dataframe thead th {\n",
       "        text-align: right;\n",
       "    }\n",
       "</style>\n",
       "<table border=\"1\" class=\"dataframe\">\n",
       "  <thead>\n",
       "    <tr style=\"text-align: right;\">\n",
       "      <th></th>\n",
       "      <th>mse</th>\n",
       "    </tr>\n",
       "  </thead>\n",
       "  <tbody>\n",
       "    <tr>\n",
       "      <th>long_term_forecast_fred-md_36_24_PatchTST_custom_ftM_sl36_ll18_pl24_dm512_nh8_el2_dl1_df2048_expand2_dc4_fc3_ebtimeF_dtTrue_Exp_epochs10_lr0.0001_lrstype1_0</th>\n",
       "      <td>27.326571</td>\n",
       "    </tr>\n",
       "    <tr>\n",
       "      <th>long_term_forecast_fred-md_36_24_iTransformer_custom_ftM_sl36_ll18_pl24_dm512_nh8_el2_dl1_df2048_expand2_dc4_fc3_ebtimeF_dtTrue_Exp_epochs10_lr0.0001_lrstype1_0</th>\n",
       "      <td>29.299107</td>\n",
       "    </tr>\n",
       "    <tr>\n",
       "      <th>long_term_forecast_fred-md_36_24_TimeXer_custom_ftM_sl36_ll18_pl24_dm512_nh8_el2_dl1_df2048_expand2_dc4_fc3_ebtimeF_dtTrue_Exp_epochs10_lr0.0001_lrstype1_0</th>\n",
       "      <td>34.944775</td>\n",
       "    </tr>\n",
       "    <tr>\n",
       "      <th>long_term_forecast_fred-md_36_24_Nonstationary_Transformer_custom_ftM_sl36_ll18_pl24_dm512_nh8_el2_dl1_df2048_expand2_dc4_fc3_ebtimeF_dtTrue_Exp_epochs10_lr0.0001_lrstype1_0</th>\n",
       "      <td>51.126667</td>\n",
       "    </tr>\n",
       "    <tr>\n",
       "      <th>long_term_forecast_fred-md_36_24_FiLM_custom_ftM_sl36_ll18_pl24_dm512_nh8_el2_dl1_df2048_expand2_dc4_fc3_ebtimeF_dtTrue_Exp_epochs10_lr0.0001_lrstype1_0</th>\n",
       "      <td>53.219898</td>\n",
       "    </tr>\n",
       "    <tr>\n",
       "      <th>long_term_forecast_fred-md_36_24_Koopa_custom_ftM_sl36_ll18_pl24_dm512_nh8_el2_dl1_df2048_expand2_dc4_fc3_ebtimeF_dtTrue_Exp_epochs10_lr0.0001_lrstype1_0</th>\n",
       "      <td>61.797867</td>\n",
       "    </tr>\n",
       "    <tr>\n",
       "      <th>long_term_forecast_fred-md_36_24_FEDformer_custom_ftM_sl36_ll18_pl24_dm512_nh8_el2_dl1_df2048_expand2_dc4_fc3_ebtimeF_dtTrue_Exp_epochs10_lr0.0001_lrstype1_0</th>\n",
       "      <td>66.653282</td>\n",
       "    </tr>\n",
       "    <tr>\n",
       "      <th>long_term_forecast_fred-md_36_24_Autoformer_custom_ftM_sl36_ll18_pl24_dm512_nh8_el2_dl1_df2048_expand2_dc4_fc3_ebtimeF_dtTrue_Exp_epochs10_lr0.0001_lrstype1_0</th>\n",
       "      <td>66.704147</td>\n",
       "    </tr>\n",
       "    <tr>\n",
       "      <th>long_term_forecast_fred-md_36_24_DLinear_custom_ftM_sl36_ll18_pl24_dm512_nh8_el2_dl1_df2048_expand2_dc4_fc3_ebtimeF_dtTrue_Exp_epochs10_lr0.0001_lrstype1_0</th>\n",
       "      <td>69.556244</td>\n",
       "    </tr>\n",
       "    <tr>\n",
       "      <th>long_term_forecast_fred-md_36_24_TSMixer_custom_ftM_sl36_ll18_pl24_dm512_nh8_el2_dl1_df2048_expand2_dc4_fc3_ebtimeF_dtTrue_Exp_epochs10_lr0.0001_lrstype1_0</th>\n",
       "      <td>195.001083</td>\n",
       "    </tr>\n",
       "    <tr>\n",
       "      <th>long_term_forecast_fred-md_36_24_Crossformer_custom_ftM_sl36_ll18_pl24_dm512_nh8_el2_dl1_df2048_expand2_dc4_fc3_ebtimeF_dtTrue_Exp_epochs10_lr0.0001_lrstype1_0</th>\n",
       "      <td>383.340118</td>\n",
       "    </tr>\n",
       "    <tr>\n",
       "      <th>long_term_forecast_fred-md_36_24_Transformer_custom_ftM_sl36_ll18_pl24_dm512_nh8_el2_dl1_df2048_expand2_dc4_fc3_ebtimeF_dtTrue_Exp_epochs10_lr0.0001_lrstype1_0</th>\n",
       "      <td>391.475159</td>\n",
       "    </tr>\n",
       "    <tr>\n",
       "      <th>long_term_forecast_fred-md_36_24_Reformer_custom_ftM_sl36_ll18_pl24_dm512_nh8_el2_dl1_df2048_expand2_dc4_fc3_ebtimeF_dtTrue_Exp_epochs10_lr0.0001_lrstype1_0</th>\n",
       "      <td>394.137329</td>\n",
       "    </tr>\n",
       "    <tr>\n",
       "      <th>long_term_forecast_fred-md_36_24_Pyraformer_custom_ftM_sl36_ll18_pl24_dm512_nh8_el2_dl1_df2048_expand2_dc4_fc3_ebtimeF_dtTrue_Exp_epochs10_lr0.0001_lrstype1_0</th>\n",
       "      <td>394.826172</td>\n",
       "    </tr>\n",
       "    <tr>\n",
       "      <th>long_term_forecast_fred-md_36_24_Informer_custom_ftM_sl36_ll18_pl24_dm512_nh8_el2_dl1_df2048_expand2_dc4_fc3_ebtimeF_dtTrue_Exp_epochs10_lr0.0001_lrstype1_0</th>\n",
       "      <td>396.801575</td>\n",
       "    </tr>\n",
       "  </tbody>\n",
       "</table>\n",
       "</div>"
      ],
      "text/plain": [
       "                                                           mse\n",
       "long_term_forecast_fred-md_36_24_PatchTST_custo...   27.326571\n",
       "long_term_forecast_fred-md_36_24_iTransformer_c...   29.299107\n",
       "long_term_forecast_fred-md_36_24_TimeXer_custom...   34.944775\n",
       "long_term_forecast_fred-md_36_24_Nonstationary_...   51.126667\n",
       "long_term_forecast_fred-md_36_24_FiLM_custom_ft...   53.219898\n",
       "long_term_forecast_fred-md_36_24_Koopa_custom_f...   61.797867\n",
       "long_term_forecast_fred-md_36_24_FEDformer_cust...   66.653282\n",
       "long_term_forecast_fred-md_36_24_Autoformer_cus...   66.704147\n",
       "long_term_forecast_fred-md_36_24_DLinear_custom...   69.556244\n",
       "long_term_forecast_fred-md_36_24_TSMixer_custom...  195.001083\n",
       "long_term_forecast_fred-md_36_24_Crossformer_cu...  383.340118\n",
       "long_term_forecast_fred-md_36_24_Transformer_cu...  391.475159\n",
       "long_term_forecast_fred-md_36_24_Reformer_custo...  394.137329\n",
       "long_term_forecast_fred-md_36_24_Pyraformer_cus...  394.826172\n",
       "long_term_forecast_fred-md_36_24_Informer_custo...  396.801575"
      ]
     },
     "execution_count": 23,
     "metadata": {},
     "output_type": "execute_result"
    }
   ],
   "source": [
    "df = pd.DataFrame.from_dict(result_dict[96], orient='index') if dataset not in ['ili', 'fred-md', 'covid-19'] else pd.DataFrame.from_dict(result_dict[24], orient='index')\n",
    "df.columns = ['mse']\n",
    "df.sort_values(by='mse')"
   ]
  },
  {
   "cell_type": "code",
   "execution_count": 24,
   "metadata": {},
   "outputs": [
    {
     "ename": "KeyError",
     "evalue": "192",
     "output_type": "error",
     "traceback": [
      "\u001b[0;31m---------------------------------------------------------------------------\u001b[0m",
      "\u001b[0;31mKeyError\u001b[0m                                  Traceback (most recent call last)",
      "Cell \u001b[0;32mIn[24], line 1\u001b[0m\n\u001b[0;32m----> 1\u001b[0m df \u001b[38;5;241m=\u001b[39m pd\u001b[38;5;241m.\u001b[39mDataFrame\u001b[38;5;241m.\u001b[39mfrom_dict(\u001b[43mresult_dict\u001b[49m\u001b[43m[\u001b[49m\u001b[38;5;241;43m192\u001b[39;49m\u001b[43m]\u001b[49m, orient\u001b[38;5;241m=\u001b[39m\u001b[38;5;124m'\u001b[39m\u001b[38;5;124mindex\u001b[39m\u001b[38;5;124m'\u001b[39m)\n\u001b[1;32m      2\u001b[0m df\u001b[38;5;241m.\u001b[39mcolumns \u001b[38;5;241m=\u001b[39m [\u001b[38;5;124m'\u001b[39m\u001b[38;5;124mmse\u001b[39m\u001b[38;5;124m'\u001b[39m]\n\u001b[1;32m      3\u001b[0m df\u001b[38;5;241m.\u001b[39msort_values(by\u001b[38;5;241m=\u001b[39m\u001b[38;5;124m'\u001b[39m\u001b[38;5;124mmse\u001b[39m\u001b[38;5;124m'\u001b[39m)\n",
      "\u001b[0;31mKeyError\u001b[0m: 192"
     ]
    }
   ],
   "source": [
    "df = pd.DataFrame.from_dict(result_dict[192], orient='index')\n",
    "df.columns = ['mse']\n",
    "df.sort_values(by='mse')"
   ]
  },
  {
   "cell_type": "code",
   "execution_count": 23,
   "metadata": {},
   "outputs": [
    {
     "data": {
      "text/html": [
       "<div>\n",
       "<style scoped>\n",
       "    .dataframe tbody tr th:only-of-type {\n",
       "        vertical-align: middle;\n",
       "    }\n",
       "\n",
       "    .dataframe tbody tr th {\n",
       "        vertical-align: top;\n",
       "    }\n",
       "\n",
       "    .dataframe thead th {\n",
       "        text-align: right;\n",
       "    }\n",
       "</style>\n",
       "<table border=\"1\" class=\"dataframe\">\n",
       "  <thead>\n",
       "    <tr style=\"text-align: right;\">\n",
       "      <th></th>\n",
       "      <th>mse</th>\n",
       "    </tr>\n",
       "  </thead>\n",
       "  <tbody>\n",
       "    <tr>\n",
       "      <th>long_term_forecast_traffic_96_336_iTransformer_custom_ftM_sl96_ll48_pl336_dm512_nh8_el4_dl1_df512_expand2_dc4_fc3_ebtimeF_dtTrue_Exp_epochs10_lr0.001_0</th>\n",
       "      <td>0.425026</td>\n",
       "    </tr>\n",
       "    <tr>\n",
       "      <th>long_term_forecast_traffic_96_336_MICN_custom_ftM_sl96_ll96_pl336_dm512_nh8_el2_dl1_df512_expand2_dc4_fc3_ebtimeF_dtTrue_Exp_epochs10_lr0.0001_0</th>\n",
       "      <td>0.547401</td>\n",
       "    </tr>\n",
       "    <tr>\n",
       "      <th>long_term_forecast_traffic_96_336_PatchTST_custom_ftM_sl96_ll48_pl336_dm512_nh8_el2_dl1_df512_expand2_dc4_fc3_ebtimeF_dtTrue_Exp_epochs10_lr0.0001_0</th>\n",
       "      <td>0.564998</td>\n",
       "    </tr>\n",
       "    <tr>\n",
       "      <th>long_term_forecast_traffic_96_336_Crossformer_custom_ftM_sl96_ll96_pl336_dm512_nh2_el2_dl1_df2048_expand2_dc4_fc3_ebtimeF_dtTrue_Exp_epochs10_lr0.0001_0</th>\n",
       "      <td>0.576672</td>\n",
       "    </tr>\n",
       "    <tr>\n",
       "      <th>long_term_forecast_traffic_96_336_Autoformer_custom_ftM_sl96_ll48_pl336_dm512_nh8_el2_dl1_df2048_expand2_dc4_fc3_ebtimeF_dtTrue_Exp_epochs3_lr0.0001_0</th>\n",
       "      <td>0.627095</td>\n",
       "    </tr>\n",
       "    <tr>\n",
       "      <th>long_term_forecast_traffic_96_336_Nonstationary_Transformer_custom_ftM_sl96_ll48_pl336_dm512_nh8_el2_dl1_df2048_expand2_dc4_fc3_ebtimeF_dtTrue_Exp_epochs3_lr0.0001_0</th>\n",
       "      <td>0.660781</td>\n",
       "    </tr>\n",
       "  </tbody>\n",
       "</table>\n",
       "</div>"
      ],
      "text/plain": [
       "                                                         mse\n",
       "long_term_forecast_traffic_96_336_iTransformer_...  0.425026\n",
       "long_term_forecast_traffic_96_336_MICN_custom_f...  0.547401\n",
       "long_term_forecast_traffic_96_336_PatchTST_cust...  0.564998\n",
       "long_term_forecast_traffic_96_336_Crossformer_c...  0.576672\n",
       "long_term_forecast_traffic_96_336_Autoformer_cu...  0.627095\n",
       "long_term_forecast_traffic_96_336_Nonstationary...  0.660781"
      ]
     },
     "execution_count": 23,
     "metadata": {},
     "output_type": "execute_result"
    }
   ],
   "source": [
    "df = pd.DataFrame.from_dict(result_dict[336], orient='index')\n",
    "df.columns = ['mse']\n",
    "df.sort_values(by='mse')"
   ]
  },
  {
   "cell_type": "code",
   "execution_count": 24,
   "metadata": {},
   "outputs": [
    {
     "data": {
      "text/html": [
       "<div>\n",
       "<style scoped>\n",
       "    .dataframe tbody tr th:only-of-type {\n",
       "        vertical-align: middle;\n",
       "    }\n",
       "\n",
       "    .dataframe tbody tr th {\n",
       "        vertical-align: top;\n",
       "    }\n",
       "\n",
       "    .dataframe thead th {\n",
       "        text-align: right;\n",
       "    }\n",
       "</style>\n",
       "<table border=\"1\" class=\"dataframe\">\n",
       "  <thead>\n",
       "    <tr style=\"text-align: right;\">\n",
       "      <th></th>\n",
       "      <th>mse</th>\n",
       "    </tr>\n",
       "  </thead>\n",
       "  <tbody>\n",
       "    <tr>\n",
       "      <th>long_term_forecast_traffic_96_720_iTransformer_custom_ftM_sl96_ll48_pl720_dm512_nh8_el4_dl1_df512_expand2_dc4_fc3_ebtimeF_dtTrue_Exp_epochs10_lr0.001_0</th>\n",
       "      <td>0.457745</td>\n",
       "    </tr>\n",
       "    <tr>\n",
       "      <th>long_term_forecast_traffic_96_720_MICN_custom_ftM_sl96_ll96_pl720_dm512_nh8_el2_dl1_df512_expand2_dc4_fc3_ebtimeF_dtTrue_Exp_epochs10_lr0.0001_0</th>\n",
       "      <td>0.573568</td>\n",
       "    </tr>\n",
       "    <tr>\n",
       "      <th>long_term_forecast_traffic_96_720_PatchTST_custom_ftM_sl96_ll48_pl720_dm512_nh8_el2_dl1_df512_expand2_dc4_fc3_ebtimeF_dtTrue_Exp_epochs10_lr0.0001_0</th>\n",
       "      <td>0.589966</td>\n",
       "    </tr>\n",
       "    <tr>\n",
       "      <th>long_term_forecast_traffic_96_720_Autoformer_custom_ftM_sl96_ll48_pl720_dm512_nh8_el2_dl1_df2048_expand2_dc4_fc3_ebtimeF_dtTrue_Exp_epochs3_lr0.0001_0</th>\n",
       "      <td>0.654264</td>\n",
       "    </tr>\n",
       "    <tr>\n",
       "      <th>long_term_forecast_traffic_96_720_Nonstationary_Transformer_custom_ftM_sl96_ll48_pl720_dm512_nh8_el2_dl1_df2048_expand2_dc4_fc3_ebtimeF_dtTrue_Exp_epochs3_lr0.0001_0</th>\n",
       "      <td>0.677019</td>\n",
       "    </tr>\n",
       "  </tbody>\n",
       "</table>\n",
       "</div>"
      ],
      "text/plain": [
       "                                                         mse\n",
       "long_term_forecast_traffic_96_720_iTransformer_...  0.457745\n",
       "long_term_forecast_traffic_96_720_MICN_custom_f...  0.573568\n",
       "long_term_forecast_traffic_96_720_PatchTST_cust...  0.589966\n",
       "long_term_forecast_traffic_96_720_Autoformer_cu...  0.654264\n",
       "long_term_forecast_traffic_96_720_Nonstationary...  0.677019"
      ]
     },
     "execution_count": 24,
     "metadata": {},
     "output_type": "execute_result"
    }
   ],
   "source": [
    "df = pd.DataFrame.from_dict(result_dict[720], orient='index')\n",
    "df.columns = ['mse']\n",
    "df.sort_values(by='mse')"
   ]
  }
 ],
 "metadata": {
  "kernelspec": {
   "display_name": "base",
   "language": "python",
   "name": "python3"
  },
  "language_info": {
   "codemirror_mode": {
    "name": "ipython",
    "version": 3
   },
   "file_extension": ".py",
   "mimetype": "text/x-python",
   "name": "python",
   "nbconvert_exporter": "python",
   "pygments_lexer": "ipython3",
   "version": "3.9.21"
  }
 },
 "nbformat": 4,
 "nbformat_minor": 2
}
