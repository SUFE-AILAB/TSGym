{
 "cells": [
  {
   "cell_type": "code",
   "execution_count": 6,
   "metadata": {},
   "outputs": [],
   "source": [
    "import pandas as pd\n",
    "import numpy as np\n",
    "import os"
   ]
  },
  {
   "cell_type": "code",
   "execution_count": 7,
   "metadata": {},
   "outputs": [],
   "source": [
    "# metric in long-term-forecasting\n",
    "# mae, mse, rmse, mape, mspe"
   ]
  },
  {
   "cell_type": "code",
   "execution_count": 8,
   "metadata": {},
   "outputs": [],
   "source": [
    "dataset = 'ili'\n",
    "pred_lens = [96, 192, 336, 720] if dataset != 'ili' else [24]\n",
    "path = '/data/coding/chaochuan/TSGym/results'\n",
    "\n",
    "result_dict = {}\n",
    "for pred_len in pred_lens:\n",
    "    model_list = os.listdir(path)\n",
    "    model_list = [_ for _ in model_list if f'pl{pred_len}' in _ and dataset in _]\n",
    "    result_dict[pred_len] = {}\n",
    "    for model in model_list:\n",
    "        result = np.load(os.path.join(path, model, 'metrics.npy'), allow_pickle=True)\n",
    "        result_dict[pred_len][model] = result[1]"
   ]
  },
  {
   "cell_type": "code",
   "execution_count": 9,
   "metadata": {},
   "outputs": [
    {
     "data": {
      "text/html": [
       "<div>\n",
       "<style scoped>\n",
       "    .dataframe tbody tr th:only-of-type {\n",
       "        vertical-align: middle;\n",
       "    }\n",
       "\n",
       "    .dataframe tbody tr th {\n",
       "        vertical-align: top;\n",
       "    }\n",
       "\n",
       "    .dataframe thead th {\n",
       "        text-align: right;\n",
       "    }\n",
       "</style>\n",
       "<table border=\"1\" class=\"dataframe\">\n",
       "  <thead>\n",
       "    <tr style=\"text-align: right;\">\n",
       "      <th></th>\n",
       "      <th>mse</th>\n",
       "    </tr>\n",
       "  </thead>\n",
       "  <tbody>\n",
       "    <tr>\n",
       "      <th>long_term_forecast_ili_36_24_PatchTST_custom_ftM_sl36_ll18_pl24_dm1024_nh4_el4_dl1_df2048_expand2_dc4_fc3_ebtimeF_dtTrue_Exp_epochs10_lr0.0001_0</th>\n",
       "      <td>2.115100</td>\n",
       "    </tr>\n",
       "    <tr>\n",
       "      <th>long_term_forecast_ili_48_24_Koopa_custom_ftM_sl48_ll48_pl24_dm512_nh8_el2_dl1_df2048_expand2_dc4_fc3_ebtimeF_dtTrue_Exp_epochs10_lr0.001_0</th>\n",
       "      <td>2.204961</td>\n",
       "    </tr>\n",
       "    <tr>\n",
       "      <th>long_term_forecast_ili_36_24_Nonstationary_Transformer_custom_ftM_sl36_ll18_pl24_dm512_nh8_el2_dl1_df2048_expand2_dc4_fc3_ebtimeF_dtTrue_Exp_epochs10_lr0.0001_0</th>\n",
       "      <td>2.521554</td>\n",
       "    </tr>\n",
       "    <tr>\n",
       "      <th>long_term_forecast_ili_36_24_MICN_custom_ftM_sl36_ll36_pl24_dm768_nh8_el2_dl1_df768_expand2_dc4_fc3_ebtimeF_dtTrue_Exp_epochs10_lr0.0001_0</th>\n",
       "      <td>3.397934</td>\n",
       "    </tr>\n",
       "    <tr>\n",
       "      <th>long_term_forecast_ili_36_24_Crossformer_custom_ftM_sl36_ll18_pl24_dm768_nh8_el2_dl1_df768_expand2_dc4_fc3_ebtimeF_dtTrue_Exp_epochs10_lr0.0001_0</th>\n",
       "      <td>3.436745</td>\n",
       "    </tr>\n",
       "    <tr>\n",
       "      <th>long_term_forecast_ili_36_24_Autoformer_custom_ftM_sl36_ll18_pl24_dm512_nh8_el2_dl1_df2048_expand2_dc4_fc3_ebtimeF_dtTrue_Exp_epochs10_lr0.0001_0</th>\n",
       "      <td>3.563666</td>\n",
       "    </tr>\n",
       "    <tr>\n",
       "      <th>long_term_forecast_ili_36_24_FiLM_custom_ftM_sl60_ll18_pl24_dm512_nh8_el2_dl1_df2048_expand2_dc4_fc3_ebtimeF_dtTrue_Exp_epochs10_lr0.0001_0</th>\n",
       "      <td>3.782863</td>\n",
       "    </tr>\n",
       "    <tr>\n",
       "      <th>long_term_forecast_ili_36_24_Transformer_custom_ftM_sl36_ll18_pl24_dm512_nh8_el2_dl1_df2048_expand2_dc4_fc3_ebtimeF_dtTrue_Exp_epochs10_lr0.0001_0</th>\n",
       "      <td>4.557440</td>\n",
       "    </tr>\n",
       "    <tr>\n",
       "      <th>long_term_forecast_ili_36_24_TimesNet_custom_ftM_sl36_ll18_pl24_dm768_nh8_el2_dl1_df768_expand2_dc4_fc3_ebtimeF_dtTrue_Exp_epochs10_lr0.0001_0</th>\n",
       "      <td>5.741597</td>\n",
       "    </tr>\n",
       "  </tbody>\n",
       "</table>\n",
       "</div>"
      ],
      "text/plain": [
       "                                                         mse\n",
       "long_term_forecast_ili_36_24_PatchTST_custom_ft...  2.115100\n",
       "long_term_forecast_ili_48_24_Koopa_custom_ftM_s...  2.204961\n",
       "long_term_forecast_ili_36_24_Nonstationary_Tran...  2.521554\n",
       "long_term_forecast_ili_36_24_MICN_custom_ftM_sl...  3.397934\n",
       "long_term_forecast_ili_36_24_Crossformer_custom...  3.436745\n",
       "long_term_forecast_ili_36_24_Autoformer_custom_...  3.563666\n",
       "long_term_forecast_ili_36_24_FiLM_custom_ftM_sl...  3.782863\n",
       "long_term_forecast_ili_36_24_Transformer_custom...  4.557440\n",
       "long_term_forecast_ili_36_24_TimesNet_custom_ft...  5.741597"
      ]
     },
     "execution_count": 9,
     "metadata": {},
     "output_type": "execute_result"
    }
   ],
   "source": [
    "df = pd.DataFrame.from_dict(result_dict[96], orient='index') if dataset != 'ili' else pd.DataFrame.from_dict(result_dict[24], orient='index')\n",
    "df.columns = ['mse']\n",
    "df.sort_values(by='mse')"
   ]
  },
  {
   "cell_type": "code",
   "execution_count": 10,
   "metadata": {},
   "outputs": [
    {
     "ename": "KeyError",
     "evalue": "192",
     "output_type": "error",
     "traceback": [
      "\u001b[0;31m---------------------------------------------------------------------------\u001b[0m",
      "\u001b[0;31mKeyError\u001b[0m                                  Traceback (most recent call last)",
      "Cell \u001b[0;32mIn[10], line 1\u001b[0m\n\u001b[0;32m----> 1\u001b[0m df \u001b[38;5;241m=\u001b[39m pd\u001b[38;5;241m.\u001b[39mDataFrame\u001b[38;5;241m.\u001b[39mfrom_dict(\u001b[43mresult_dict\u001b[49m\u001b[43m[\u001b[49m\u001b[38;5;241;43m192\u001b[39;49m\u001b[43m]\u001b[49m, orient\u001b[38;5;241m=\u001b[39m\u001b[38;5;124m'\u001b[39m\u001b[38;5;124mindex\u001b[39m\u001b[38;5;124m'\u001b[39m)\n\u001b[1;32m      2\u001b[0m df\u001b[38;5;241m.\u001b[39mcolumns \u001b[38;5;241m=\u001b[39m [\u001b[38;5;124m'\u001b[39m\u001b[38;5;124mmse\u001b[39m\u001b[38;5;124m'\u001b[39m]\n\u001b[1;32m      3\u001b[0m df\u001b[38;5;241m.\u001b[39msort_values(by\u001b[38;5;241m=\u001b[39m\u001b[38;5;124m'\u001b[39m\u001b[38;5;124mmse\u001b[39m\u001b[38;5;124m'\u001b[39m)\n",
      "\u001b[0;31mKeyError\u001b[0m: 192"
     ]
    }
   ],
   "source": [
    "df = pd.DataFrame.from_dict(result_dict[192], orient='index')\n",
    "df.columns = ['mse']\n",
    "df.sort_values(by='mse')"
   ]
  },
  {
   "cell_type": "code",
   "execution_count": 23,
   "metadata": {},
   "outputs": [
    {
     "data": {
      "text/html": [
       "<div>\n",
       "<style scoped>\n",
       "    .dataframe tbody tr th:only-of-type {\n",
       "        vertical-align: middle;\n",
       "    }\n",
       "\n",
       "    .dataframe tbody tr th {\n",
       "        vertical-align: top;\n",
       "    }\n",
       "\n",
       "    .dataframe thead th {\n",
       "        text-align: right;\n",
       "    }\n",
       "</style>\n",
       "<table border=\"1\" class=\"dataframe\">\n",
       "  <thead>\n",
       "    <tr style=\"text-align: right;\">\n",
       "      <th></th>\n",
       "      <th>mse</th>\n",
       "    </tr>\n",
       "  </thead>\n",
       "  <tbody>\n",
       "    <tr>\n",
       "      <th>long_term_forecast_traffic_96_336_iTransformer_custom_ftM_sl96_ll48_pl336_dm512_nh8_el4_dl1_df512_expand2_dc4_fc3_ebtimeF_dtTrue_Exp_epochs10_lr0.001_0</th>\n",
       "      <td>0.425026</td>\n",
       "    </tr>\n",
       "    <tr>\n",
       "      <th>long_term_forecast_traffic_96_336_MICN_custom_ftM_sl96_ll96_pl336_dm512_nh8_el2_dl1_df512_expand2_dc4_fc3_ebtimeF_dtTrue_Exp_epochs10_lr0.0001_0</th>\n",
       "      <td>0.547401</td>\n",
       "    </tr>\n",
       "    <tr>\n",
       "      <th>long_term_forecast_traffic_96_336_PatchTST_custom_ftM_sl96_ll48_pl336_dm512_nh8_el2_dl1_df512_expand2_dc4_fc3_ebtimeF_dtTrue_Exp_epochs10_lr0.0001_0</th>\n",
       "      <td>0.564998</td>\n",
       "    </tr>\n",
       "    <tr>\n",
       "      <th>long_term_forecast_traffic_96_336_Crossformer_custom_ftM_sl96_ll96_pl336_dm512_nh2_el2_dl1_df2048_expand2_dc4_fc3_ebtimeF_dtTrue_Exp_epochs10_lr0.0001_0</th>\n",
       "      <td>0.576672</td>\n",
       "    </tr>\n",
       "    <tr>\n",
       "      <th>long_term_forecast_traffic_96_336_Autoformer_custom_ftM_sl96_ll48_pl336_dm512_nh8_el2_dl1_df2048_expand2_dc4_fc3_ebtimeF_dtTrue_Exp_epochs3_lr0.0001_0</th>\n",
       "      <td>0.627095</td>\n",
       "    </tr>\n",
       "    <tr>\n",
       "      <th>long_term_forecast_traffic_96_336_Nonstationary_Transformer_custom_ftM_sl96_ll48_pl336_dm512_nh8_el2_dl1_df2048_expand2_dc4_fc3_ebtimeF_dtTrue_Exp_epochs3_lr0.0001_0</th>\n",
       "      <td>0.660781</td>\n",
       "    </tr>\n",
       "  </tbody>\n",
       "</table>\n",
       "</div>"
      ],
      "text/plain": [
       "                                                         mse\n",
       "long_term_forecast_traffic_96_336_iTransformer_...  0.425026\n",
       "long_term_forecast_traffic_96_336_MICN_custom_f...  0.547401\n",
       "long_term_forecast_traffic_96_336_PatchTST_cust...  0.564998\n",
       "long_term_forecast_traffic_96_336_Crossformer_c...  0.576672\n",
       "long_term_forecast_traffic_96_336_Autoformer_cu...  0.627095\n",
       "long_term_forecast_traffic_96_336_Nonstationary...  0.660781"
      ]
     },
     "execution_count": 23,
     "metadata": {},
     "output_type": "execute_result"
    }
   ],
   "source": [
    "df = pd.DataFrame.from_dict(result_dict[336], orient='index')\n",
    "df.columns = ['mse']\n",
    "df.sort_values(by='mse')"
   ]
  },
  {
   "cell_type": "code",
   "execution_count": 24,
   "metadata": {},
   "outputs": [
    {
     "data": {
      "text/html": [
       "<div>\n",
       "<style scoped>\n",
       "    .dataframe tbody tr th:only-of-type {\n",
       "        vertical-align: middle;\n",
       "    }\n",
       "\n",
       "    .dataframe tbody tr th {\n",
       "        vertical-align: top;\n",
       "    }\n",
       "\n",
       "    .dataframe thead th {\n",
       "        text-align: right;\n",
       "    }\n",
       "</style>\n",
       "<table border=\"1\" class=\"dataframe\">\n",
       "  <thead>\n",
       "    <tr style=\"text-align: right;\">\n",
       "      <th></th>\n",
       "      <th>mse</th>\n",
       "    </tr>\n",
       "  </thead>\n",
       "  <tbody>\n",
       "    <tr>\n",
       "      <th>long_term_forecast_traffic_96_720_iTransformer_custom_ftM_sl96_ll48_pl720_dm512_nh8_el4_dl1_df512_expand2_dc4_fc3_ebtimeF_dtTrue_Exp_epochs10_lr0.001_0</th>\n",
       "      <td>0.457745</td>\n",
       "    </tr>\n",
       "    <tr>\n",
       "      <th>long_term_forecast_traffic_96_720_MICN_custom_ftM_sl96_ll96_pl720_dm512_nh8_el2_dl1_df512_expand2_dc4_fc3_ebtimeF_dtTrue_Exp_epochs10_lr0.0001_0</th>\n",
       "      <td>0.573568</td>\n",
       "    </tr>\n",
       "    <tr>\n",
       "      <th>long_term_forecast_traffic_96_720_PatchTST_custom_ftM_sl96_ll48_pl720_dm512_nh8_el2_dl1_df512_expand2_dc4_fc3_ebtimeF_dtTrue_Exp_epochs10_lr0.0001_0</th>\n",
       "      <td>0.589966</td>\n",
       "    </tr>\n",
       "    <tr>\n",
       "      <th>long_term_forecast_traffic_96_720_Autoformer_custom_ftM_sl96_ll48_pl720_dm512_nh8_el2_dl1_df2048_expand2_dc4_fc3_ebtimeF_dtTrue_Exp_epochs3_lr0.0001_0</th>\n",
       "      <td>0.654264</td>\n",
       "    </tr>\n",
       "    <tr>\n",
       "      <th>long_term_forecast_traffic_96_720_Nonstationary_Transformer_custom_ftM_sl96_ll48_pl720_dm512_nh8_el2_dl1_df2048_expand2_dc4_fc3_ebtimeF_dtTrue_Exp_epochs3_lr0.0001_0</th>\n",
       "      <td>0.677019</td>\n",
       "    </tr>\n",
       "  </tbody>\n",
       "</table>\n",
       "</div>"
      ],
      "text/plain": [
       "                                                         mse\n",
       "long_term_forecast_traffic_96_720_iTransformer_...  0.457745\n",
       "long_term_forecast_traffic_96_720_MICN_custom_f...  0.573568\n",
       "long_term_forecast_traffic_96_720_PatchTST_cust...  0.589966\n",
       "long_term_forecast_traffic_96_720_Autoformer_cu...  0.654264\n",
       "long_term_forecast_traffic_96_720_Nonstationary...  0.677019"
      ]
     },
     "execution_count": 24,
     "metadata": {},
     "output_type": "execute_result"
    }
   ],
   "source": [
    "df = pd.DataFrame.from_dict(result_dict[720], orient='index')\n",
    "df.columns = ['mse']\n",
    "df.sort_values(by='mse')"
   ]
  }
 ],
 "metadata": {
  "kernelspec": {
   "display_name": "mqenv",
   "language": "python",
   "name": "python3"
  },
  "language_info": {
   "codemirror_mode": {
    "name": "ipython",
    "version": 3
   },
   "file_extension": ".py",
   "mimetype": "text/x-python",
   "name": "python",
   "nbconvert_exporter": "python",
   "pygments_lexer": "ipython3",
   "version": "3.10.16"
  }
 },
 "nbformat": 4,
 "nbformat_minor": 2
}
