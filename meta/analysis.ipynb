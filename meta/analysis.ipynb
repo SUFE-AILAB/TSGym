{
 "cells": [
  {
   "cell_type": "code",
   "execution_count": 8,
   "metadata": {},
   "outputs": [],
   "source": [
    "import numpy as np\n",
    "import matplotlib.pyplot as plt\n",
    "import os\n",
    "import pandas as pd\n",
    "from sklearn.manifold import TSNE\n",
    "from sklearn.decomposition import PCA\n",
    "import re"
   ]
  },
  {
   "cell_type": "code",
   "execution_count": 9,
   "metadata": {},
   "outputs": [],
   "source": [
    "arg_component_balance=False\n",
    "arg_add_new_dataset=False\n",
    "arg_add_transformer=False"
   ]
  },
  {
   "cell_type": "code",
   "execution_count": 10,
   "metadata": {},
   "outputs": [
    {
     "name": "stdout",
     "output_type": "stream",
     "text": [
      "3\n"
     ]
    }
   ],
   "source": [
    "result_path = '/data/coding/chaochuan/TSGym/meta/results'\n",
    "# datasets = ['ETTh1', 'ETTh2', 'ETTm1', 'ETTm2', 'ili', 'weather', 'ECL', 'Exchange', 'traffic']\n",
    "datasets = ['ETTh1', 'ETTh2', 'traffic']\n",
    "if arg_add_new_dataset:\n",
    "    datasets.extend(['covid-19', 'fred-md'])\n",
    "file_list = [f'{dataset}-component_balance_{arg_component_balance}-add_new_dataset_{arg_add_new_dataset}-add_transformer_{arg_add_transformer}.npz' for dataset in datasets]\n",
    "\n",
    "baselines = ['iTransformer',\n",
    " 'MambaSimple',\n",
    " 'PatchTST',\n",
    " 'TimeMixer',\n",
    " 'Koopa',\n",
    " 'SegRNN',\n",
    " 'DLinear',\n",
    " 'FEDformer',\n",
    " 'Crossformer',\n",
    " 'Informer',\n",
    " 'PAttn',\n",
    " 'ETSformer',\n",
    " 'TimeXer',\n",
    " 'LightTS',\n",
    " 'Nonstationary',\n",
    " 'TiDE',\n",
    " 'Pyraformer',\n",
    " 'MICN',\n",
    " 'Transformer',\n",
    " 'FiLM',\n",
    " 'TimesNet',\n",
    " 'TSMixer',\n",
    " 'Autoformer',\n",
    " 'Reformer']\n",
    "print(len(file_list))"
   ]
  },
  {
   "cell_type": "code",
   "execution_count": 11,
   "metadata": {},
   "outputs": [],
   "source": [
    "# sota performance\n",
    "def search_sota_performance(dataset, pred_lens=[96], path = './results_long_term_forecasting/results'):\n",
    "    result_dict = {}\n",
    "    for pred_len in pred_lens:\n",
    "        model_list = os.listdir(path)\n",
    "        model_list = [_ for _ in model_list if f'pl{pred_len}' in _ and dataset in _]\n",
    "        result_dict[pred_len] = {}\n",
    "        for model in model_list:\n",
    "            result = np.load(os.path.join(path, dataset, model, 'metrics.npy'), allow_pickle=True)\n",
    "            result_dict[pred_len][model] = result[1]\n",
    "\n",
    "    df = pd.DataFrame.from_dict(result_dict[pred_lens[0]], orient='index')\n",
    "    df.columns = ['mse']\n",
    "    df = df.sort_values(by='mse')\n",
    "    df.index = [_.split('_')[6] for _ in df.index]\n",
    "\n",
    "    return df"
   ]
  },
  {
   "cell_type": "code",
   "execution_count": 12,
   "metadata": {},
   "outputs": [
    {
     "data": {
      "text/plain": [
       "<Figure size 1500x900 with 0 Axes>"
      ]
     },
     "metadata": {},
     "output_type": "display_data"
    }
   ],
   "source": [
    "fig = plt.figure(figsize=(15, 9))\n",
    "for i, file in enumerate(file_list):\n",
    "    try:\n",
    "        perf_epoch = np.load(os.path.join(result_path, file), allow_pickle=True)\n",
    "        # print(perf_epoch.files)\n",
    "\n",
    "        fig.add_subplot(4, 3, i+1)\n",
    "        for _ in perf_epoch.files:\n",
    "            if _ in ['pred_ranks_for_true_topk_epoch', 'true_ranks_for_pred_topk_epoch']:\n",
    "                plt.plot(perf_epoch[_], label=_)\n",
    "            elif _ == 'total_num':\n",
    "                plt.title(f'{file.replace(\".npz\", \"\").split(\"-\")[0]}-total_num: {perf_epoch[_]}')\n",
    "            elif _ == 'best_epoch':\n",
    "                plt.axvline(perf_epoch['best_epoch'].item(), color='black', linestyle='--')\n",
    "            else:\n",
    "                pass \n",
    "\n",
    "        if i==0: plt.legend()\n",
    "    except:\n",
    "        continue\n",
    "\n",
    "plt.subplots_adjust(wspace=0.3, hspace=0.4)\n",
    "plt.show()"
   ]
  },
  {
   "cell_type": "code",
   "execution_count": null,
   "metadata": {},
   "outputs": [],
   "source": []
  },
  {
   "cell_type": "code",
   "execution_count": 13,
   "metadata": {},
   "outputs": [
    {
     "data": {
      "text/plain": [
       "<Figure size 1200x2000 with 0 Axes>"
      ]
     },
     "metadata": {},
     "output_type": "display_data"
    }
   ],
   "source": [
    "fig = plt.figure(figsize=(12, 20))\n",
    "for i, file in enumerate(file_list):\n",
    "    try:\n",
    "        dataset = file[:re.search('-component', file).start()]\n",
    "        if dataset in ['ili', 'covid-19', 'fred-md']:\n",
    "            df = search_sota_performance(dataset, pred_lens=[24])\n",
    "        else:\n",
    "            df = search_sota_performance(dataset)\n",
    "        # except:\n",
    "        #     continue\n",
    "        fig.add_subplot(4, 3, i+1)\n",
    "        for model, metric in df.iterrows():\n",
    "            plt.axhline(y=metric.item(), color='blue', linestyle='--')\n",
    "            plt.text(0, metric.item(), model, color='black')\n",
    "\n",
    "        # 添加图例和标题\n",
    "        perf_epoch = np.load(os.path.join(result_path, file), allow_pickle=True)\n",
    "        top1_perf_epoch = perf_epoch['top1_perf_epoch']\n",
    "        plt.plot(top1_perf_epoch, color='orange', label='TSGym')\n",
    "\n",
    "        plt.legend()\n",
    "        plt.title(f'TSGym vs SOTA, Dataset: {dataset}')\n",
    "    except:\n",
    "        continue\n",
    "\n",
    "plt.show()"
   ]
  },
  {
   "cell_type": "code",
   "execution_count": 14,
   "metadata": {},
   "outputs": [
    {
     "ename": "ValueError",
     "evalue": "Length mismatch: Expected axis has 0 elements, new values have 1 elements",
     "output_type": "error",
     "traceback": [
      "\u001b[0;31m---------------------------------------------------------------------------\u001b[0m",
      "\u001b[0;31mValueError\u001b[0m                                Traceback (most recent call last)",
      "Cell \u001b[0;32mIn[14], line 12\u001b[0m\n\u001b[1;32m     10\u001b[0m     df \u001b[38;5;241m=\u001b[39m search_sota_performance(dataset, pred_lens\u001b[38;5;241m=\u001b[39m[\u001b[38;5;241m24\u001b[39m])\n\u001b[1;32m     11\u001b[0m \u001b[38;5;28;01melse\u001b[39;00m:\n\u001b[0;32m---> 12\u001b[0m     df \u001b[38;5;241m=\u001b[39m \u001b[43msearch_sota_performance\u001b[49m\u001b[43m(\u001b[49m\u001b[43mdataset\u001b[49m\u001b[43m)\u001b[49m\n\u001b[1;32m     15\u001b[0m \u001b[38;5;66;03m# 添加图例和标题\u001b[39;00m\n\u001b[1;32m     16\u001b[0m perf_epoch \u001b[38;5;241m=\u001b[39m np\u001b[38;5;241m.\u001b[39mload(os\u001b[38;5;241m.\u001b[39mpath\u001b[38;5;241m.\u001b[39mjoin(result_path, file), allow_pickle\u001b[38;5;241m=\u001b[39m\u001b[38;5;28;01mTrue\u001b[39;00m)\n",
      "Cell \u001b[0;32mIn[11], line 13\u001b[0m, in \u001b[0;36msearch_sota_performance\u001b[0;34m(dataset, pred_lens, path)\u001b[0m\n\u001b[1;32m     10\u001b[0m         result_dict[pred_len][model] \u001b[38;5;241m=\u001b[39m result[\u001b[38;5;241m1\u001b[39m]\n\u001b[1;32m     12\u001b[0m df \u001b[38;5;241m=\u001b[39m pd\u001b[38;5;241m.\u001b[39mDataFrame\u001b[38;5;241m.\u001b[39mfrom_dict(result_dict[pred_lens[\u001b[38;5;241m0\u001b[39m]], orient\u001b[38;5;241m=\u001b[39m\u001b[38;5;124m'\u001b[39m\u001b[38;5;124mindex\u001b[39m\u001b[38;5;124m'\u001b[39m)\n\u001b[0;32m---> 13\u001b[0m \u001b[43mdf\u001b[49m\u001b[38;5;241;43m.\u001b[39;49m\u001b[43mcolumns\u001b[49m \u001b[38;5;241m=\u001b[39m [\u001b[38;5;124m'\u001b[39m\u001b[38;5;124mmse\u001b[39m\u001b[38;5;124m'\u001b[39m]\n\u001b[1;32m     14\u001b[0m df \u001b[38;5;241m=\u001b[39m df\u001b[38;5;241m.\u001b[39msort_values(by\u001b[38;5;241m=\u001b[39m\u001b[38;5;124m'\u001b[39m\u001b[38;5;124mmse\u001b[39m\u001b[38;5;124m'\u001b[39m)\n\u001b[1;32m     15\u001b[0m df\u001b[38;5;241m.\u001b[39mindex \u001b[38;5;241m=\u001b[39m [_\u001b[38;5;241m.\u001b[39msplit(\u001b[38;5;124m'\u001b[39m\u001b[38;5;124m_\u001b[39m\u001b[38;5;124m'\u001b[39m)[\u001b[38;5;241m6\u001b[39m] \u001b[38;5;28;01mfor\u001b[39;00m _ \u001b[38;5;129;01min\u001b[39;00m df\u001b[38;5;241m.\u001b[39mindex]\n",
      "File \u001b[0;32m~/miniconda3/envs/mqenv/lib/python3.11/site-packages/pandas/core/generic.py:5915\u001b[0m, in \u001b[0;36mNDFrame.__setattr__\u001b[0;34m(self, name, value)\u001b[0m\n\u001b[1;32m   5913\u001b[0m \u001b[38;5;28;01mtry\u001b[39;00m:\n\u001b[1;32m   5914\u001b[0m     \u001b[38;5;28mobject\u001b[39m\u001b[38;5;241m.\u001b[39m\u001b[38;5;21m__getattribute__\u001b[39m(\u001b[38;5;28mself\u001b[39m, name)\n\u001b[0;32m-> 5915\u001b[0m     \u001b[38;5;28;01mreturn\u001b[39;00m \u001b[38;5;28;43mobject\u001b[39;49m\u001b[38;5;241;43m.\u001b[39;49m\u001b[38;5;21;43m__setattr__\u001b[39;49m\u001b[43m(\u001b[49m\u001b[38;5;28;43mself\u001b[39;49m\u001b[43m,\u001b[49m\u001b[43m \u001b[49m\u001b[43mname\u001b[49m\u001b[43m,\u001b[49m\u001b[43m \u001b[49m\u001b[43mvalue\u001b[49m\u001b[43m)\u001b[49m\n\u001b[1;32m   5916\u001b[0m \u001b[38;5;28;01mexcept\u001b[39;00m \u001b[38;5;167;01mAttributeError\u001b[39;00m:\n\u001b[1;32m   5917\u001b[0m     \u001b[38;5;28;01mpass\u001b[39;00m\n",
      "File \u001b[0;32m~/miniconda3/envs/mqenv/lib/python3.11/site-packages/pandas/_libs/properties.pyx:69\u001b[0m, in \u001b[0;36mpandas._libs.properties.AxisProperty.__set__\u001b[0;34m()\u001b[0m\n",
      "File \u001b[0;32m~/miniconda3/envs/mqenv/lib/python3.11/site-packages/pandas/core/generic.py:823\u001b[0m, in \u001b[0;36mNDFrame._set_axis\u001b[0;34m(self, axis, labels)\u001b[0m\n\u001b[1;32m    821\u001b[0m \u001b[38;5;28;01mdef\u001b[39;00m\u001b[38;5;250m \u001b[39m\u001b[38;5;21m_set_axis\u001b[39m(\u001b[38;5;28mself\u001b[39m, axis: \u001b[38;5;28mint\u001b[39m, labels: AnyArrayLike \u001b[38;5;241m|\u001b[39m \u001b[38;5;28mlist\u001b[39m) \u001b[38;5;241m-\u001b[39m\u001b[38;5;241m>\u001b[39m \u001b[38;5;28;01mNone\u001b[39;00m:\n\u001b[1;32m    822\u001b[0m     labels \u001b[38;5;241m=\u001b[39m ensure_index(labels)\n\u001b[0;32m--> 823\u001b[0m     \u001b[38;5;28;43mself\u001b[39;49m\u001b[38;5;241;43m.\u001b[39;49m\u001b[43m_mgr\u001b[49m\u001b[38;5;241;43m.\u001b[39;49m\u001b[43mset_axis\u001b[49m\u001b[43m(\u001b[49m\u001b[43maxis\u001b[49m\u001b[43m,\u001b[49m\u001b[43m \u001b[49m\u001b[43mlabels\u001b[49m\u001b[43m)\u001b[49m\n\u001b[1;32m    824\u001b[0m     \u001b[38;5;28mself\u001b[39m\u001b[38;5;241m.\u001b[39m_clear_item_cache()\n",
      "File \u001b[0;32m~/miniconda3/envs/mqenv/lib/python3.11/site-packages/pandas/core/internals/managers.py:230\u001b[0m, in \u001b[0;36mBaseBlockManager.set_axis\u001b[0;34m(self, axis, new_labels)\u001b[0m\n\u001b[1;32m    228\u001b[0m \u001b[38;5;28;01mdef\u001b[39;00m\u001b[38;5;250m \u001b[39m\u001b[38;5;21mset_axis\u001b[39m(\u001b[38;5;28mself\u001b[39m, axis: \u001b[38;5;28mint\u001b[39m, new_labels: Index) \u001b[38;5;241m-\u001b[39m\u001b[38;5;241m>\u001b[39m \u001b[38;5;28;01mNone\u001b[39;00m:\n\u001b[1;32m    229\u001b[0m     \u001b[38;5;66;03m# Caller is responsible for ensuring we have an Index object.\u001b[39;00m\n\u001b[0;32m--> 230\u001b[0m     \u001b[38;5;28;43mself\u001b[39;49m\u001b[38;5;241;43m.\u001b[39;49m\u001b[43m_validate_set_axis\u001b[49m\u001b[43m(\u001b[49m\u001b[43maxis\u001b[49m\u001b[43m,\u001b[49m\u001b[43m \u001b[49m\u001b[43mnew_labels\u001b[49m\u001b[43m)\u001b[49m\n\u001b[1;32m    231\u001b[0m     \u001b[38;5;28mself\u001b[39m\u001b[38;5;241m.\u001b[39maxes[axis] \u001b[38;5;241m=\u001b[39m new_labels\n",
      "File \u001b[0;32m~/miniconda3/envs/mqenv/lib/python3.11/site-packages/pandas/core/internals/base.py:70\u001b[0m, in \u001b[0;36mDataManager._validate_set_axis\u001b[0;34m(self, axis, new_labels)\u001b[0m\n\u001b[1;32m     67\u001b[0m     \u001b[38;5;28;01mpass\u001b[39;00m\n\u001b[1;32m     69\u001b[0m \u001b[38;5;28;01melif\u001b[39;00m new_len \u001b[38;5;241m!=\u001b[39m old_len:\n\u001b[0;32m---> 70\u001b[0m     \u001b[38;5;28;01mraise\u001b[39;00m \u001b[38;5;167;01mValueError\u001b[39;00m(\n\u001b[1;32m     71\u001b[0m         \u001b[38;5;124mf\u001b[39m\u001b[38;5;124m\"\u001b[39m\u001b[38;5;124mLength mismatch: Expected axis has \u001b[39m\u001b[38;5;132;01m{\u001b[39;00mold_len\u001b[38;5;132;01m}\u001b[39;00m\u001b[38;5;124m elements, new \u001b[39m\u001b[38;5;124m\"\u001b[39m\n\u001b[1;32m     72\u001b[0m         \u001b[38;5;124mf\u001b[39m\u001b[38;5;124m\"\u001b[39m\u001b[38;5;124mvalues have \u001b[39m\u001b[38;5;132;01m{\u001b[39;00mnew_len\u001b[38;5;132;01m}\u001b[39;00m\u001b[38;5;124m elements\u001b[39m\u001b[38;5;124m\"\u001b[39m\n\u001b[1;32m     73\u001b[0m     )\n",
      "\u001b[0;31mValueError\u001b[0m: Length mismatch: Expected axis has 0 elements, new values have 1 elements"
     ]
    }
   ],
   "source": [
    "# TSGym vs best sota\n",
    "dfs = []\n",
    "ranks = {k: [] for k in baselines}\n",
    "ranks['TSGym'] = []\n",
    "for i, file in enumerate(file_list):\n",
    "    # dataset = file.split('-')[0]\n",
    "    dataset = file[:re.search('-component', file).start()]\n",
    "\n",
    "    if dataset in ['ili', 'covid-19', 'fred-md']:\n",
    "        df = search_sota_performance(dataset, pred_lens=[24])\n",
    "    else:\n",
    "        df = search_sota_performance(dataset)\n",
    "\n",
    "\n",
    "    # 添加图例和标题\n",
    "    perf_epoch = np.load(os.path.join(result_path, file), allow_pickle=True)\n",
    "    top1_perf_epoch = perf_epoch['top1_perf_epoch']\n",
    "\n",
    "\n",
    "\n",
    "    df.loc['TSGym'] = top1_perf_epoch[perf_epoch['best_epoch'].item()]\n",
    "    df = df.sort_values(by='mse')\n",
    "    df = df.reset_index()\n",
    "    df.columns = ['model', dataset]\n",
    "    # df = df.iloc[:10, :]\n",
    "    for baseline in baselines:\n",
    "        if len(np.where(df['model'] == baseline)[0]) > 0:\n",
    "            ranks[baseline].append((np.where(df['model'] == baseline)[0] + 1).item())\n",
    "    ranks['TSGym'].append((np.where(df['model'] == 'TSGym')[0] + 1).item())\n",
    "    dfs.append(df)\n",
    "\n",
    "dfs = pd.concat(dfs, axis=1)\n",
    "dfs"
   ]
  },
  {
   "cell_type": "code",
   "execution_count": null,
   "metadata": {},
   "outputs": [],
   "source": []
  },
  {
   "cell_type": "code",
   "execution_count": 309,
   "metadata": {},
   "outputs": [
    {
     "data": {
      "text/plain": [
       "{'iTransformer': [6, 7, 3, 1],\n",
       " 'MambaSimple': [17],\n",
       " 'PatchTST': [3, 5, 10, 7, 1, 8, 10, 2, 6],\n",
       " 'TimeMixer': [4, 4, 9, 4, 3, 6],\n",
       " 'Koopa': [10, 7, 1, 6, 4, 5, 3, 5],\n",
       " 'SegRNN': [1, 1, 6, 3, 4, 22, 12],\n",
       " 'DLinear': [8, 12],\n",
       " 'FEDformer': [9, 11],\n",
       " 'Crossformer': [13, 13, 8, 14, 7, 6, 4, 9],\n",
       " 'Informer': [24, 21],\n",
       " 'PAttn': [7],\n",
       " 'ETSformer': [20, 17],\n",
       " 'TimeXer': [5, 3, 7, 2, 2, 2, 4],\n",
       " 'LightTS': [16, 15],\n",
       " 'Nonstationary': [19, 12, 11, 10, 5, 9, 7, 6, 11],\n",
       " 'TiDE': [6],\n",
       " 'Pyraformer': [21, 15, 15, 13, 13, 18, 11, 14],\n",
       " 'MICN': [12, 10, 3, 8, 6, 11, 8, 4, 7],\n",
       " 'Transformer': [22, 16, 13, 15, 10, 15, 20, 10, 13],\n",
       " 'FiLM': [11, 8, 4, 5, 9, 12, 16, 8, 3],\n",
       " 'TimesNet': [14, 9, 5, 9, 2, 5, 9, 5, 9],\n",
       " 'TSMixer': [18, 14, 12, 11, 10, 14, 8],\n",
       " 'Autoformer': [15, 11, 14, 12, 8, 14, 13, 7, 10],\n",
       " 'Reformer': [23, 19],\n",
       " 'TSGym': [2, 2, 2, 1, 3, 1, 1, 1, 2]}"
      ]
     },
     "execution_count": 309,
     "metadata": {},
     "output_type": "execute_result"
    }
   ],
   "source": [
    "ranks"
   ]
  },
  {
   "cell_type": "code",
   "execution_count": 310,
   "metadata": {},
   "outputs": [
    {
     "data": {
      "text/plain": [
       "{'iTransformer': 4.25,\n",
       " 'MambaSimple': 17.0,\n",
       " 'PatchTST': 5.777777777777778,\n",
       " 'TimeMixer': 5.0,\n",
       " 'Koopa': 5.125,\n",
       " 'SegRNN': 7.0,\n",
       " 'DLinear': 10.0,\n",
       " 'FEDformer': 10.0,\n",
       " 'Crossformer': 9.25,\n",
       " 'Informer': 22.5,\n",
       " 'PAttn': 7.0,\n",
       " 'ETSformer': 18.5,\n",
       " 'TimeXer': 3.5714285714285716,\n",
       " 'LightTS': 15.5,\n",
       " 'Nonstationary': 10.0,\n",
       " 'TiDE': 6.0,\n",
       " 'Pyraformer': 15.0,\n",
       " 'MICN': 7.666666666666667,\n",
       " 'Transformer': 14.88888888888889,\n",
       " 'FiLM': 8.444444444444445,\n",
       " 'TimesNet': 7.444444444444445,\n",
       " 'TSMixer': 12.428571428571429,\n",
       " 'Autoformer': 11.555555555555555,\n",
       " 'Reformer': 21.0,\n",
       " 'TSGym': 1.6666666666666667}"
      ]
     },
     "execution_count": 310,
     "metadata": {},
     "output_type": "execute_result"
    }
   ],
   "source": [
    "{k: np.mean(v) for k,v in ranks.items() if len(v) > 0}"
   ]
  },
  {
   "cell_type": "code",
   "execution_count": 318,
   "metadata": {},
   "outputs": [
    {
     "data": {
      "text/plain": [
       "{'PatchTST': 5.777777777777778,\n",
       " 'Nonstationary': 10.0,\n",
       " 'MICN': 7.666666666666667,\n",
       " 'Transformer': 14.88888888888889,\n",
       " 'FiLM': 8.444444444444445,\n",
       " 'TimesNet': 7.444444444444445,\n",
       " 'Autoformer': 11.555555555555555,\n",
       " 'TSGym': 1.6666666666666667}"
      ]
     },
     "execution_count": 318,
     "metadata": {},
     "output_type": "execute_result"
    }
   ],
   "source": [
    "{k: np.mean(v) for k,v in ranks.items() if len(v) == len(datasets)}"
   ]
  },
  {
   "cell_type": "code",
   "execution_count": 312,
   "metadata": {},
   "outputs": [],
   "source": [
    "# dfs.to_excel(f'/data/coding/chaochuan/TSGym/meta/component_balance_{arg_component_balance}-add_new_dataset_{arg_add_new_dataset}-add_transformer_{arg_add_transformer}.xlsx', index=False)\n"
   ]
  },
  {
   "cell_type": "markdown",
   "metadata": {},
   "source": [
    "meta-feature的差异性"
   ]
  },
  {
   "cell_type": "code",
   "execution_count": 313,
   "metadata": {},
   "outputs": [],
   "source": [
    "# meta_feature_path = '/data/coding/chaochuan/TSGym/meta_learner_cc/meta_feature_copy/meta_feature'"
   ]
  },
  {
   "cell_type": "code",
   "execution_count": 314,
   "metadata": {},
   "outputs": [],
   "source": [
    "# meta_features_dict = {}\n",
    "# for file in os.listdir(meta_feature_path):\n",
    "#     if file.endswith('.npz'):\n",
    "#         meta_feature = np.load(os.path.join(meta_feature_path, file), allow_pickle=True)\n",
    "#         meta_features_dict[file.replace('.npz', '').replace('meta_feature_', '')] = meta_feature['meta_feature']"
   ]
  },
  {
   "cell_type": "code",
   "execution_count": 315,
   "metadata": {},
   "outputs": [],
   "source": [
    "# meta_features = np.stack(list(meta_features_dict.values()))\n",
    "# meta_features = np.clip(meta_features, -1e4, 1e4)\n",
    "\n",
    "# # z-score\n",
    "# mu = np.nanmean(meta_features, axis=0, keepdims=True)\n",
    "# std = np.nanstd(meta_features, axis=0, keepdims=True)\n",
    "\n",
    "# meta_features = (meta_features - mu) / (std + 1e-6)\n",
    "# meta_features = np.nan_to_num(meta_features, nan=0.0)"
   ]
  },
  {
   "cell_type": "code",
   "execution_count": 316,
   "metadata": {},
   "outputs": [],
   "source": [
    "# fig = plt.figure(figsize=(20, 20))\n",
    "\n",
    "# for seed in range(1, 5):\n",
    "#     tsne = TSNE(n_components=2, random_state=seed, perplexity=10)\n",
    "#     meta_features_tsne = tsne.fit_transform(meta_features) \n",
    "#     meta_features_dict_tsne = {k: v for k, v in zip(meta_features_dict.keys(), meta_features_tsne)}\n",
    "#     fig.add_subplot(2, 2, seed)\n",
    "#     for k, v in meta_features_dict_tsne.items():\n",
    "#         plt.scatter(v[0], v[1])\n",
    "#         plt.text(v[0], v[1], k, fontsize=12)\n",
    "# fig.suptitle('TSNE', fontsize=16)\n",
    "# plt.show()\n"
   ]
  },
  {
   "cell_type": "code",
   "execution_count": 317,
   "metadata": {},
   "outputs": [],
   "source": [
    "# fig = plt.figure(figsize=(20, 20))\n",
    "\n",
    "# pca = PCA(n_components=2, random_state=42)\n",
    "# meta_features_pca = pca.fit_transform(meta_features) \n",
    "# meta_features_dict_pca = {k: v for k, v in zip(meta_features_dict.keys(), meta_features_pca)}\n",
    "# for k, v in meta_features_dict_pca.items():\n",
    "#     plt.scatter(v[0], v[1])\n",
    "#     plt.text(v[0], v[1], k, fontsize=16)\n",
    "# plt.title('PCA', fontsize=16)\n",
    "# plt.show()\n"
   ]
  },
  {
   "cell_type": "code",
   "execution_count": 14,
   "metadata": {},
   "outputs": [],
   "source": []
  }
 ],
 "metadata": {
  "kernelspec": {
   "display_name": "mqenv",
   "language": "python",
   "name": "python3"
  },
  "language_info": {
   "codemirror_mode": {
    "name": "ipython",
    "version": 3
   },
   "file_extension": ".py",
   "mimetype": "text/x-python",
   "name": "python",
   "nbconvert_exporter": "python",
   "pygments_lexer": "ipython3",
   "version": "3.11.11"
  }
 },
 "nbformat": 4,
 "nbformat_minor": 2
}
