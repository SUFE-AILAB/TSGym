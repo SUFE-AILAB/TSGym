{
 "cells": [
  {
   "cell_type": "code",
   "execution_count": 1,
   "metadata": {},
   "outputs": [],
   "source": [
    "import numpy as np\n",
    "import matplotlib.pyplot as plt\n",
    "import os\n",
    "import pandas as pd\n",
    "from sklearn.manifold import TSNE\n",
    "from sklearn.decomposition import PCA\n",
    "import re"
   ]
  },
  {
   "cell_type": "code",
   "execution_count": 2,
   "metadata": {},
   "outputs": [],
   "source": [
    "# setting_dict = {\n",
    "#     'Default': 'component_balance_False-add_transformer_False-add_LLM_TSFM_False-all_periods_False',\n",
    "#     '+Resample': 'component_balance_True-add_transformer_False-add_LLM_TSFM_False-all_periods_False',\n",
    "#     '+Transformer': 'component_balance_False-add_transformer_True-add_LLM_TSFM_False-all_periods_False',\n",
    "#     '+AllPeriods': 'component_balance_False-add_transformer_False-add_LLM_TSFM_False-all_periods_True',\n",
    "#     '+Resample+Transformer': 'component_balance_True-add_transformer_True-add_LLM_TSFM_False-all_periods_False',\n",
    "#     '+Resample+AllPeriods': 'component_balance_True-add_transformer_False-add_LLM_TSFM_False-all_periods_True',\n",
    "#     '+Resample+Transformer+AllPeriods': 'component_balance_True-add_transformer_False-add_LLM_TSFM_False-all_periods_True'\n",
    "# }\n",
    "\n",
    "setting_dict = {\n",
    "    'Default': 'component_balance_False-add_transformer_True-add_LLM_TSFM_False-all_periods_False',\n",
    "    '-Transformer': 'component_balance_False-add_transformer_False-add_LLM_TSFM_False-all_periods_False',\n",
    "    '+Resample': 'component_balance_True-add_transformer_False-add_LLM_TSFM_False-all_periods_False',\n",
    "    '+AllPL': 'component_balance_False-add_transformer_False-add_LLM_TSFM_False-all_periods_True',\n",
    "}"
   ]
  },
  {
   "cell_type": "code",
   "execution_count": 3,
   "metadata": {},
   "outputs": [],
   "source": [
    "metric = 'mse'\n",
    "result_path = f'./meta/results'\n",
    "datasets = ['ETTm1', 'ETTm2', 'ETTh1', 'ETTh2', 'ECL', 'traffic', 'weather', 'Exchange', 'ili']\n",
    "datasets_vis = ['ETTm1', 'ETTm2', 'ETTh1', 'ETTh2', 'ECL', 'Traffic', 'Weather', 'Exchange', 'ILI']"
   ]
  },
  {
   "cell_type": "code",
   "execution_count": 4,
   "metadata": {},
   "outputs": [],
   "source": [
    "def df_generator(name, setting):\n",
    "    # TSGym vs best sota\n",
    "    dfs = []\n",
    "    for pred_len_1, pred_len_2 in zip([96, 192, 336, 720], [24, 36, 48, 60]):\n",
    "        file_list = [f'{dataset}-{setting}_{pred_len_1}_{pred_len_2}.npz' for dataset in datasets]\n",
    "        df = {}\n",
    "        for i, file in enumerate(file_list):\n",
    "            # dataset = file.split('-')[0]\n",
    "            dataset = file[:re.search('-component', file).start()]\n",
    "\n",
    "            # 添加图例和标题\n",
    "            perf_epoch = np.load(os.path.join(result_path, file), allow_pickle=True)\n",
    "            top1_perf_epoch, top1_perf_epoch_mae = perf_epoch['top1_perf_epoch'], perf_epoch['top1_perf_epoch_mae']\n",
    "            mse, mae = top1_perf_epoch[perf_epoch['best_epoch'].item()], top1_perf_epoch_mae[perf_epoch['best_epoch'].item()]\n",
    "\n",
    "            df[dataset] = {'mse': mse, 'mae': mae}\n",
    "        df = pd.DataFrame.from_dict(df).T\n",
    "        # df.columns = [f'{_}_{name}' for _ in df.columns]\n",
    "        dfs.append(df)\n",
    "    dfs = pd.concat(dfs).groupby(level=0).mean()\n",
    "\n",
    "    return dfs\n"
   ]
  },
  {
   "cell_type": "code",
   "execution_count": 5,
   "metadata": {},
   "outputs": [],
   "source": [
    "df_ablation = {}\n",
    "for k, v in setting_dict.items():\n",
    "    try:\n",
    "        df_ablation[k] = df_generator(k, v)\n",
    "    except:\n",
    "        pass\n",
    "        continue\n",
    "df_ablation = pd.concat(df_ablation, axis=1).round(3)\n",
    "df_ablation = df_ablation.loc[datasets]\n",
    "df_ablation.index = datasets_vis"
   ]
  },
  {
   "cell_type": "code",
   "execution_count": 6,
   "metadata": {},
   "outputs": [],
   "source": [
    "df_ablation.to_excel('./meta/results_paper/TSGym-Ablation.xlsx')"
   ]
  }
 ],
 "metadata": {
  "kernelspec": {
   "display_name": "mqenv",
   "language": "python",
   "name": "python3"
  },
  "language_info": {
   "codemirror_mode": {
    "name": "ipython",
    "version": 3
   },
   "file_extension": ".py",
   "mimetype": "text/x-python",
   "name": "python",
   "nbconvert_exporter": "python",
   "pygments_lexer": "ipython3",
   "version": "3.11.11"
  }
 },
 "nbformat": 4,
 "nbformat_minor": 2
}
